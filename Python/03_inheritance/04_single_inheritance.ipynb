{
 "cells": [
  {
   "cell_type": "code",
   "execution_count": 25,
   "metadata": {},
   "outputs": [],
   "source": [
    "class TP():\n",
    "\n",
    "    def __init__(self):\n",
    "        \n",
    "        self.get_course_list()\n",
    "        \n",
    "    def get_course_list(self):\n",
    "        print(\"we have\",self.aibatch(), \"course for the duration of 8 months\")\n",
    "        self.fullstack()\n",
    "        self.webdeveloper()\n",
    "        self.data_analytics()\n",
    "\n",
    "    def trainer_01(self):\n",
    "        print(\"i will assist you to complete\",self.aibatch(), \"course\")\n",
    "        \n",
    "        self.data_analytics()\n",
    "        self.fullstack()\n",
    "        \n",
    "    def lab(self):\n",
    "        print(\"lab is open from 10am to 7pm\")\n",
    "    def classrooms(self):\n",
    "        print(\"able to access class rooms\")\n",
    "\n",
    "    \n",
    "    def aibatch(self):\n",
    "        return \"AI\"\n",
    "    def fullstack(self):\n",
    "        print(\"welcome to fullstack developer\")\n",
    "    def webdeveloper(self):\n",
    "        print(\"welcome to web developer\")\n",
    "    def data_analytics(self):\n",
    "        print(\"welcome to data analytics\")\n",
    "    "
   ]
  },
  {
   "cell_type": "code",
   "execution_count": 20,
   "metadata": {},
   "outputs": [
    {
     "name": "stdout",
     "output_type": "stream",
     "text": [
      "we have AI course for the duration of 8 months\n",
      "welcome to fullstack developer\n",
      "welcome to web developer\n",
      "welcome to data analytics\n"
     ]
    }
   ],
   "source": [
    "tc=TP()\n"
   ]
  },
  {
   "cell_type": "code",
   "execution_count": 26,
   "metadata": {},
   "outputs": [],
   "source": [
    "class aibatch(TP):\n",
    "    def welcome(self):\n",
    "        print(\"Thank you for choosing AI course\")"
   ]
  },
  {
   "cell_type": "code",
   "execution_count": 30,
   "metadata": {},
   "outputs": [
    {
     "name": "stdout",
     "output_type": "stream",
     "text": [
      "we have AI course for the duration of 8 months\n",
      "welcome to fullstack developer\n",
      "welcome to web developer\n",
      "welcome to data analytics\n",
      "i will assist you to complete AI course\n",
      "welcome to data analytics\n",
      "welcome to fullstack developer\n",
      "able to access class rooms\n",
      "lab is open from 10am to 7pm\n",
      "Thank you for choosing AI course\n"
     ]
    }
   ],
   "source": [
    "ab=aibatch()\n",
    "ab.trainer_01()\n",
    "ab.classrooms()\n",
    "ab.lab()\n",
    "ab.welcome()"
   ]
  },
  {
   "cell_type": "code",
   "execution_count": null,
   "metadata": {},
   "outputs": [],
   "source": []
  }
 ],
 "metadata": {
  "kernelspec": {
   "display_name": "base",
   "language": "python",
   "name": "python3"
  },
  "language_info": {
   "codemirror_mode": {
    "name": "ipython",
    "version": 3
   },
   "file_extension": ".py",
   "mimetype": "text/x-python",
   "name": "python",
   "nbconvert_exporter": "python",
   "pygments_lexer": "ipython3",
   "version": "3.11.7"
  }
 },
 "nbformat": 4,
 "nbformat_minor": 2
}
