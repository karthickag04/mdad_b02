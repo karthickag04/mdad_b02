{
 "cells": [
  {
   "cell_type": "code",
   "execution_count": 1,
   "id": "0bfa375d-6f24-42bf-bc9b-269d8686cd86",
   "metadata": {},
   "outputs": [],
   "source": [
    "## Inheritance"
   ]
  },
  {
   "cell_type": "code",
   "execution_count": 4,
   "id": "3119661c-284f-46a8-819c-3b8a6c5cff7a",
   "metadata": {},
   "outputs": [],
   "source": [
    "# Inheritance allows us to define a class that inherits all the methods and properties from another class.\n",
    "\n",
    "# Parent class is the class being inherited from, also called base class.\n",
    "\n",
    "# Child class is the class that inherits from another class, also called derived class."
   ]
  },
  {
   "cell_type": "code",
   "execution_count": 5,
   "id": "46f7d77b-6bbd-4da4-9579-081072a8c4b6",
   "metadata": {},
   "outputs": [],
   "source": [
    "# type of inheritance\n",
    "    \n",
    "    # 1. Single \n",
    "    # 2. Multiple \n",
    "    # 3. Multilevel \n",
    "    # 4. Hierarchical \n",
    "    # 5. Hybrid "
   ]
  }
 ],
 "metadata": {
  "kernelspec": {
   "display_name": "Python 3 (ipykernel)",
   "language": "python",
   "name": "python3"
  },
  "language_info": {
   "codemirror_mode": {
    "name": "ipython",
    "version": 3
   },
   "file_extension": ".py",
   "mimetype": "text/x-python",
   "name": "python",
   "nbconvert_exporter": "python",
   "pygments_lexer": "ipython3",
   "version": "3.11.7"
  }
 },
 "nbformat": 4,
 "nbformat_minor": 5
}
