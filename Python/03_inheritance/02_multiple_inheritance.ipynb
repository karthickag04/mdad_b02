{
 "cells": [
  {
   "cell_type": "code",
   "execution_count": 14,
   "metadata": {},
   "outputs": [],
   "source": [
    "class TP():\n",
    "\n",
    "    def __init__(self):\n",
    "        self.lab()\n",
    "        self.classrooms()\n",
    "        # self.get_course_list()\n",
    "        \n",
    "    def get_course_list(self):\n",
    "        print(\"we have\",self.aibatch(), \"course for the duration of 8 months\")\n",
    "        print(\"we have\",self.fullstack(), \"course for the duration of 6 months\")\n",
    "        print(\"we have\",self.webdeveloper(), \"course for the duration of 4 months\")\n",
    "        print(\"we have\",self.data_analytics(), \"course for the duration of 2 months\")\n",
    "        \n",
    "\n",
    "    def trainer_01(self,coursename):\n",
    "        if(coursename==\"AI\"):\n",
    "            print(\"i will assist you to complete\",self.aibatch(), \"course\")\n",
    "        elif(coursename==\"data analytics\"):\n",
    "            print(\"i will assist you to complete\",self.data_analytics(), \"course\")\n",
    "        elif(coursename==\"fullstack\"):\n",
    "            print(\"i will assist you to complete\",self.fullstack(), \"course\")        \n",
    "    \n",
    "    def trainer_02(self):\n",
    "        print(\"i will assist you to complete\",self.fullstack(), \"course\")\n",
    "    \n",
    "    def trainer_03(self):\n",
    "        print(\"i will assist you to complete\",self.webdeveloper(), \"course\")\n",
    "        print(\"i will assist you to complete\",self.fullstack(), \"course\")\n",
    "        \n",
    "        \n",
    "    def lab(self):\n",
    "        print(\"lab is open from 10am to 7pm\")\n",
    "    def classrooms(self):\n",
    "        print(\"able to access class rooms\")\n",
    "\n",
    "    \n",
    "    def aibatch(self):\n",
    "        return \"AI\"\n",
    "    def fullstack(self):\n",
    "        return \"fullstack developer\"\n",
    "    \n",
    "    def webdeveloper(self):\n",
    "        return \"web developer\"\n",
    "    \n",
    "    def data_analytics(self):\n",
    "        return \"data analytics\"\n",
    "    "
   ]
  },
  {
   "cell_type": "code",
   "execution_count": 19,
   "metadata": {},
   "outputs": [],
   "source": [
    "class aibatch(TP):\n",
    "    def welcome(self):\n",
    "        print(\"Thank you for choosing AI course\")\n",
    "    def course_material(self):\n",
    "        print(\"You can able to access course material\")"
   ]
  },
  {
   "cell_type": "code",
   "execution_count": 16,
   "metadata": {},
   "outputs": [],
   "source": [
    "class fullstack(TP):\n",
    "    def welcome(self):\n",
    "        print(\"Thank you for choosing Fullstack developer course\")"
   ]
  },
  {
   "cell_type": "code",
   "execution_count": 20,
   "metadata": {},
   "outputs": [
    {
     "name": "stdout",
     "output_type": "stream",
     "text": [
      "lab is open from 10am to 7pm\n",
      "able to access class rooms\n",
      "i will assist you to complete AI course\n",
      "Thank you for choosing AI course\n",
      "You can able to access course material\n"
     ]
    }
   ],
   "source": [
    "ab=aibatch()\n",
    "ab.trainer_01(\"AI\")\n",
    "ab.welcome()\n",
    "ab.course_material()"
   ]
  },
  {
   "cell_type": "code",
   "execution_count": 24,
   "metadata": {},
   "outputs": [
    {
     "name": "stdout",
     "output_type": "stream",
     "text": [
      "lab is open from 10am to 7pm\n",
      "able to access class rooms\n",
      "i will assist you to complete fullstack developer course\n",
      "Thank you for choosing Fullstack developer course\n"
     ]
    }
   ],
   "source": [
    "ab=fullstack()\n",
    "ab.trainer_02()\n",
    "ab.welcome()"
   ]
  },
  {
   "cell_type": "code",
   "execution_count": null,
   "metadata": {},
   "outputs": [],
   "source": []
  }
 ],
 "metadata": {
  "kernelspec": {
   "display_name": "base",
   "language": "python",
   "name": "python3"
  },
  "language_info": {
   "codemirror_mode": {
    "name": "ipython",
    "version": 3
   },
   "file_extension": ".py",
   "mimetype": "text/x-python",
   "name": "python",
   "nbconvert_exporter": "python",
   "pygments_lexer": "ipython3",
   "version": "3.11.7"
  }
 },
 "nbformat": 4,
 "nbformat_minor": 2
}
