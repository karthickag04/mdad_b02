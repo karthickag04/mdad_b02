{
 "cells": [
  {
   "cell_type": "markdown",
   "id": "91781a14",
   "metadata": {},
   "source": [
    "#### PyPi Package : NumPy"
   ]
  },
  {
   "cell_type": "code",
   "execution_count": 1,
   "id": "89be7d2f",
   "metadata": {},
   "outputs": [],
   "source": [
    "# pip install numpy\n",
    "import numpy as np"
   ]
  },
  {
   "cell_type": "code",
   "execution_count": 4,
   "id": "444a19c6",
   "metadata": {},
   "outputs": [
    {
     "name": "stdout",
     "output_type": "stream",
     "text": [
      "[1, 2, 3, 1, 2, 3]\n"
     ]
    }
   ],
   "source": [
    "# Given lists\n",
    "list1 = [1, 2, 3]\n",
    "list2 = [1, 2, 3]\n",
    "print(list1+list2)"
   ]
  },
  {
   "cell_type": "code",
   "execution_count": 6,
   "id": "b3a8f226",
   "metadata": {},
   "outputs": [
    {
     "name": "stdout",
     "output_type": "stream",
     "text": [
      "[2, 4, 6]\n",
      "[2 4 6]\n"
     ]
    }
   ],
   "source": [
    "\n",
    "\n",
    "# Initialize an empty list to store the results\n",
    "result = []\n",
    "\n",
    "# Loop through the lists using the index\n",
    "for i in range(len(list1)):\n",
    "    # Add corresponding elements and append to the result list\n",
    "    sum_value = list1[i] + list2[i]\n",
    "    result.append(sum_value)\n",
    "\n",
    "# Print the result\n",
    "print(result)\n",
    "\n",
    "print(np.array(list1)+np.array(list2))\n"
   ]
  },
  {
   "cell_type": "markdown",
   "id": "cce1a17a",
   "metadata": {},
   "source": [
    "# Linear Algebra"
   ]
  },
  {
   "cell_type": "code",
   "execution_count": 7,
   "id": "925aff76",
   "metadata": {},
   "outputs": [
    {
     "name": "stdout",
     "output_type": "stream",
     "text": [
      "[[1. 1. 1.]\n",
      " [1. 1. 1.]]\n",
      "\n",
      "\n",
      "[[2 2]\n",
      " [2 2]\n",
      " [2 2]]\n",
      "\n",
      "\n",
      "[[6. 6.]\n",
      " [6. 6.]]\n",
      "\n",
      "[[19 22]\n",
      " [43 50]]\n"
     ]
    }
   ],
   "source": [
    "a = np.ones((2, 3))\n",
    "b = np.full((3, 2), 2)\n",
    "print(a)\n",
    "print(\"\")\n",
    "print(\"\")\n",
    "print(b)\n",
    "print(\"\")\n",
    "print(\"\")\n",
    "print(np.matmul(a, b))\n",
    "\n",
    "a=np.array([[1,2],[3,4]])\n",
    "b=np.array([[5,6],[7,8]])\n",
    "\n",
    "print(\"\")\n",
    "print(np.matmul(a, b))\n"
   ]
  },
  {
   "cell_type": "markdown",
   "id": "cc457509",
   "metadata": {},
   "source": [
    "# Statistics"
   ]
  },
  {
   "cell_type": "code",
   "execution_count": 27,
   "id": "579ec89f",
   "metadata": {},
   "outputs": [
    {
     "name": "stdout",
     "output_type": "stream",
     "text": [
      "1\n",
      "[3 6]\n",
      "6\n",
      "21\n",
      "[5 7 9]\n",
      "Mean 3.5\n",
      "3.5\n",
      "median 3.5\n",
      "Median for each row [4. 2.]\n",
      "Median from odd number 4.0\n",
      "Median from even number 4.5\n"
     ]
    }
   ],
   "source": [
    "stats = np.array([[1, 2, 3], [4, 5, 6]])\n",
    "print(np.min(stats))\n",
    "print(np.max(stats, axis=1))\n",
    "print(np.max(stats))\n",
    "print(np.sum(stats))\n",
    "print(np.sum(stats, axis=0))\n",
    "print(\"Mean\",np.mean(stats))\n",
    "print((1+2+3+4+5+6)/6)\n",
    "\n",
    "stats1 = np.array([[5, 4, 3], [2, 1, 6]])\n",
    "print(\"median\",np.median(stats1))\n",
    "stats2 = np.array([[5, 4, 3], [2, 1, 6]])\n",
    "print(\"Median for each row\",np.median(stats2, axis=1))\n",
    "stats3 = np.array([2,3,4,5,6,1,7])\n",
    "print(\"Median from odd number\",np.median(stats3))\n",
    "stats4 = np.array([2,3,4,5,6,1,7,8])\n",
    "print(\"Median from even number\",np.median(stats4))"
   ]
  },
  {
   "cell_type": "markdown",
   "id": "6229d999",
   "metadata": {},
   "source": [
    "# Reorganizing Arrays"
   ]
  },
  {
   "cell_type": "code",
   "execution_count": 9,
   "id": "57b9bf9d",
   "metadata": {},
   "outputs": [
    {
     "name": "stdout",
     "output_type": "stream",
     "text": [
      "[[1 2 3 4]\n",
      " [5 6 7 8]]\n",
      "8\n",
      "[[1 2]\n",
      " [3 4]\n",
      " [5 6]\n",
      " [7 8]]\n",
      "\n",
      "[[1 2 3 4 5 6 7 8]]\n",
      "[[1 2 3 4]\n",
      " [5 6 7 8]]\n"
     ]
    }
   ],
   "source": [
    "before = np.array([[1, 2, 3, 4], [5, 6, 7, 8]])\n",
    "print(before)\n",
    "print(before.size)\n",
    "after = before.reshape((4, 2))\n",
    "print(after)\n",
    "print(\"\")\n",
    "after = before.reshape((1, 8))\n",
    "print(after)\n",
    "# print(\"\")\n",
    "after = before.reshape((2, 4))\n",
    "print(after)\n",
    "# print(\"\")"
   ]
  },
  {
   "cell_type": "markdown",
   "id": "94e5e75c",
   "metadata": {},
   "source": [
    "## Vertically stacking vectors"
   ]
  },
  {
   "cell_type": "code",
   "execution_count": 35,
   "id": "ec83c43d",
   "metadata": {},
   "outputs": [
    {
     "name": "stdout",
     "output_type": "stream",
     "text": [
      "[[1 2 3 4]\n",
      " [5 6 7 8]]\n"
     ]
    }
   ],
   "source": [
    "v1 = np.array([1, 2, 3, 4])\n",
    "v2 = np.array([5, 6, 7, 8])\n",
    "print(np.vstack([v1, v2]))"
   ]
  },
  {
   "cell_type": "markdown",
   "id": "f1fd05e5",
   "metadata": {},
   "source": [
    "## Horizontal stacking"
   ]
  },
  {
   "cell_type": "code",
   "execution_count": 38,
   "id": "0a3f0ac4",
   "metadata": {},
   "outputs": [
    {
     "name": "stdout",
     "output_type": "stream",
     "text": [
      "[[1. 1. 1. 1.]\n",
      " [1. 1. 1. 1.]]\n",
      "[[0. 0.]\n",
      " [0. 0.]]\n",
      "[[1. 1. 1. 1. 0. 0.]\n",
      " [1. 1. 1. 1. 0. 0.]]\n"
     ]
    }
   ],
   "source": [
    "h1 = np.ones((2, 4))\n",
    "h2 = np.zeros((2, 2))\n",
    "\n",
    "print(h1)\n",
    "print(h2)\n",
    "print(np.hstack((h1, h2)))"
   ]
  },
  {
   "cell_type": "markdown",
   "id": "d7e74729",
   "metadata": {},
   "source": [
    "# Miscellaneous"
   ]
  },
  {
   "cell_type": "markdown",
   "id": "fcc1704a",
   "metadata": {},
   "source": [
    "## Load Data from File"
   ]
  },
  {
   "cell_type": "code",
   "execution_count": 10,
   "id": "697446b0",
   "metadata": {},
   "outputs": [
    {
     "name": "stdout",
     "output_type": "stream",
     "text": [
      "[[  1  13  21  11 196  75   4   3  34   6   7   8   0   1   2   3   4   5]\n",
      " [  3  42  12  33 766  75   4  55   6   4   3   4   5   6   7   0  11  12]\n",
      " [  1  22  33  11 999  11   2   1  78   0   1   2   9   8   7   1  76  88]]\n"
     ]
    }
   ],
   "source": [
    "filedata = np.genfromtxt('read_data.txt', delimiter=',')\n",
    "filedata = filedata.astype('int32')\n",
    "print(filedata)"
   ]
  },
  {
   "cell_type": "markdown",
   "id": "85719b6d",
   "metadata": {},
   "source": [
    "## Boolean Masking and Advanced Indexing"
   ]
  },
  {
   "cell_type": "code",
   "execution_count": 13,
   "id": "647fbfd2",
   "metadata": {},
   "outputs": [
    {
     "name": "stdout",
     "output_type": "stream",
     "text": [
      "[[False  True  True  True False  True False False  True False False False\n",
      "  False False False False False False]\n",
      " [False  True  True  True False  True False  True False False False False\n",
      "  False False False False  True  True]\n",
      " [False  True  True  True False  True False False  True False False False\n",
      "  False False False False  True  True]]\n",
      "\n",
      "[[ True  True  True  True  True  True  True  True  True  True  True  True\n",
      "   True  True  True  True  True  True]\n",
      " [ True  True  True  True  True  True  True  True  True  True  True  True\n",
      "   True  True  True  True  True  True]\n",
      " [ True  True  True  True  True  True  True  True  True  True  True  True\n",
      "   True  True  True  True  True  True]]\n",
      "\n",
      "[[False False False False False False False False False False False False\n",
      "  False False False False False False]\n",
      " [False False False False False False False False False False False False\n",
      "  False False False False False False]\n",
      " [False False False False False False False False False False False False\n",
      "  False False False False False False]]\n"
     ]
    }
   ],
   "source": [
    "mask = ((filedata > 10) & (filedata < 100))\n",
    "print(mask)\n",
    "print(\"\")\n",
    "mask = ((filedata > 10) | (filedata < 100))\n",
    "print(mask)\n",
    "print(\"\")\n",
    "mask = ~((filedata > 10) | (filedata < 100))\n",
    "print(mask)"
   ]
  },
  {
   "cell_type": "markdown",
   "id": "195a0ea6",
   "metadata": {},
   "source": [
    "# Additional Numpy Functions"
   ]
  },
  {
   "cell_type": "markdown",
   "id": "5ccd8406",
   "metadata": {},
   "source": [
    "## Flatten an array"
   ]
  },
  {
   "cell_type": "code",
   "execution_count": 16,
   "id": "199f1d4a",
   "metadata": {},
   "outputs": [
    {
     "name": "stdout",
     "output_type": "stream",
     "text": [
      "[[1 2 3 4]\n",
      " [5 6 7 8]]\n",
      "[1 2 3 4 5 6 7 8]\n"
     ]
    }
   ],
   "source": [
    "print(before)\n",
    "print(before.flatten())"
   ]
  },
  {
   "cell_type": "markdown",
   "id": "1f18ef1f",
   "metadata": {},
   "source": [
    "## Reshape with unknown dimension (-1)"
   ]
  },
  {
   "cell_type": "code",
   "execution_count": 20,
   "id": "67093028",
   "metadata": {},
   "outputs": [
    {
     "name": "stdout",
     "output_type": "stream",
     "text": [
      "[[1 2 3 4]\n",
      " [5 6 7 8]]\n",
      "[[1 2 3 4]\n",
      " [5 6 7 8]]\n",
      "[[1 2]\n",
      " [3 4]\n",
      " [5 6]\n",
      " [7 8]]\n",
      "[[1]\n",
      " [2]\n",
      " [3]\n",
      " [4]\n",
      " [5]\n",
      " [6]\n",
      " [7]\n",
      " [8]]\n"
     ]
    }
   ],
   "source": [
    "print(before)\n",
    "reshaped = before.reshape(2, -1)\n",
    "print(reshaped)\n",
    "reshaped = before.reshape(4, -1)\n",
    "print(reshaped)\n",
    "reshaped = before.reshape(8, -1)\n",
    "print(reshaped)\n"
   ]
  },
  {
   "cell_type": "markdown",
   "id": "42684ae1",
   "metadata": {},
   "source": [
    "## Transpose an array"
   ]
  },
  {
   "cell_type": "code",
   "execution_count": 21,
   "id": "26ada855",
   "metadata": {},
   "outputs": [
    {
     "name": "stdout",
     "output_type": "stream",
     "text": [
      "[[1 2 3 4]\n",
      " [5 6 7 8]]\n",
      "[[1 5]\n",
      " [2 6]\n",
      " [3 7]\n",
      " [4 8]]\n"
     ]
    }
   ],
   "source": [
    "print(before)\n",
    "print(before.T)"
   ]
  },
  {
   "cell_type": "markdown",
   "id": "a725a20d",
   "metadata": {},
   "source": [
    "## Concatenate arrays"
   ]
  },
  {
   "cell_type": "code",
   "execution_count": 11,
   "id": "922cf5bd",
   "metadata": {},
   "outputs": [
    {
     "name": "stdout",
     "output_type": "stream",
     "text": [
      "[[1 2]\n",
      " [3 4]\n",
      " [5 6]]\n"
     ]
    }
   ],
   "source": [
    "array1 = np.array([[1, 2], [3, 4]])\n",
    "array2 = np.array([[5, 6]])\n",
    "print(np.concatenate((array1, array2), axis=0))\n"
   ]
  },
  {
   "cell_type": "markdown",
   "id": "29dd5a19",
   "metadata": {},
   "source": [
    "## Split arrays"
   ]
  },
  {
   "cell_type": "code",
   "execution_count": 12,
   "id": "c690abf1",
   "metadata": {},
   "outputs": [
    {
     "name": "stdout",
     "output_type": "stream",
     "text": [
      "[array([1, 2, 3]), array([4, 5, 6])]\n"
     ]
    }
   ],
   "source": [
    "array = np.array([1, 2, 3, 4, 5, 6])\n",
    "arrays = np.split(array,2)\n",
    "print(arrays)"
   ]
  },
  {
   "cell_type": "markdown",
   "id": "134eb901",
   "metadata": {},
   "source": [
    "## Find unique elements and counts"
   ]
  },
  {
   "cell_type": "code",
   "execution_count": 29,
   "id": "b1bf5fe5",
   "metadata": {},
   "outputs": [
    {
     "name": "stdout",
     "output_type": "stream",
     "text": [
      "[0 1 2 3 4 5]\n",
      "[1 3 4 1 1 1]\n"
     ]
    }
   ],
   "source": [
    "array = np.array([1, 2, 3, 1, 2,1,2,0,2, 4, 5])\n",
    "unique_elements, counts = np.unique(array, return_counts=True)\n",
    "print(unique_elements)\n",
    "print(counts)"
   ]
  },
  {
   "cell_type": "markdown",
   "id": "d5c3d977",
   "metadata": {},
   "source": [
    "## Reshape for broadcasting"
   ]
  },
  {
   "cell_type": "code",
   "execution_count": 30,
   "id": "6d8b0663",
   "metadata": {},
   "outputs": [
    {
     "name": "stdout",
     "output_type": "stream",
     "text": [
      "[1 2 3]\n",
      "[[1]\n",
      " [2]\n",
      " [3]]\n",
      "[[1 2 3]\n",
      " [2 4 6]\n",
      " [3 6 9]]\n"
     ]
    }
   ],
   "source": [
    "a = np.array([1, 2, 3])\n",
    "b = np.array([[1], [2], [3]])\n",
    "print(a)\n",
    "print(b)\n",
    "print(a * b)"
   ]
  },
  {
   "cell_type": "markdown",
   "id": "af298bc1",
   "metadata": {},
   "source": [
    "## Applying a function element-wise"
   ]
  },
  {
   "cell_type": "code",
   "execution_count": 36,
   "id": "5b263b6e",
   "metadata": {},
   "outputs": [
    {
     "name": "stdout",
     "output_type": "stream",
     "text": [
      "[1.         1.41421356 1.73205081]\n"
     ]
    }
   ],
   "source": [
    "a = np.array([1, 2, 3])\n",
    "print(np.sqrt(a))"
   ]
  },
  {
   "cell_type": "markdown",
   "id": "ea220294",
   "metadata": {},
   "source": [
    "## Find indices of non-zero elements"
   ]
  },
  {
   "cell_type": "code",
   "execution_count": 37,
   "id": "5e4f2183",
   "metadata": {},
   "outputs": [
    {
     "name": "stdout",
     "output_type": "stream",
     "text": [
      "(array([1, 2, 4], dtype=int64),)\n"
     ]
    }
   ],
   "source": [
    "a = np.array([0, 1, 2, 0, 3, 0])\n",
    "print(np.nonzero(a))"
   ]
  },
  {
   "cell_type": "markdown",
   "id": "592f197d",
   "metadata": {},
   "source": [
    "## Sorting"
   ]
  },
  {
   "cell_type": "code",
   "execution_count": 38,
   "id": "a0b92ceb",
   "metadata": {},
   "outputs": [
    {
     "name": "stdout",
     "output_type": "stream",
     "text": [
      "[1 2 3 5]\n"
     ]
    }
   ],
   "source": [
    "a = np.array([[3, 2], [5, 1]])\n",
    "print(np.sort(a, axis=None))"
   ]
  },
  {
   "cell_type": "markdown",
   "id": "bb8ff579",
   "metadata": {},
   "source": [
    "## Set operations"
   ]
  },
  {
   "cell_type": "code",
   "execution_count": 44,
   "id": "2e6f496d",
   "metadata": {},
   "outputs": [
    {
     "name": "stdout",
     "output_type": "stream",
     "text": [
      "[3 4 5]\n",
      "[1 2 3 4 5 6 7 8]\n",
      "[1 2]\n",
      "[6 7 8]\n",
      "[1 2 6 7 8]\n",
      "[1 2 6 7 8]\n"
     ]
    }
   ],
   "source": [
    "set1 = np.array([1, 2, 3, 4, 5])\n",
    "set2 = np.array([3, 4, 5, 6, 7,8])\n",
    "print(np.intersect1d(set1, set2))\n",
    "print(np.union1d(set1, set2))\n",
    "print(np.setdiff1d(set1, set2))\n",
    "print(np.setdiff1d(set2, set1))\n",
    "# print(np.setdiff1d(np.union1d(set1, set2),np.intersect1d(set1, set2)))\n",
    "result = np.array(list(set(set1).symmetric_difference(set(set2))))\n",
    "print(result)"
   ]
  },
  {
   "cell_type": "markdown",
   "id": "361e15e6",
   "metadata": {},
   "source": [
    "## Generate a meshgrid"
   ]
  },
  {
   "cell_type": "code",
   "execution_count": 45,
   "id": "9dfc9d21",
   "metadata": {},
   "outputs": [
    {
     "name": "stdout",
     "output_type": "stream",
     "text": [
      "[[1 2 3]\n",
      " [1 2 3]]\n",
      "[[4 4 4]\n",
      " [5 5 5]]\n"
     ]
    }
   ],
   "source": [
    "x = np.array([1, 2, 3])\n",
    "y = np.array([4, 5])\n",
    "X, Y = np.meshgrid(x, y)\n",
    "print(X)\n",
    "print(Y)"
   ]
  },
  {
   "cell_type": "markdown",
   "id": "cbad3114",
   "metadata": {},
   "source": [
    "## Diagonal of an array"
   ]
  },
  {
   "cell_type": "code",
   "execution_count": 46,
   "id": "caae6db9",
   "metadata": {},
   "outputs": [
    {
     "name": "stdout",
     "output_type": "stream",
     "text": [
      "[[1 2 3]\n",
      " [4 5 6]\n",
      " [7 8 9]]\n",
      "[1 5 9]\n"
     ]
    }
   ],
   "source": [
    "a = np.array([[1, 2, 3], [4, 5, 6], [7, 8, 9]])\n",
    "print(a)\n",
    "print(np.diagonal(a))"
   ]
  },
  {
   "cell_type": "markdown",
   "id": "bed1f00a",
   "metadata": {},
   "source": [
    "## Flip an array"
   ]
  },
  {
   "cell_type": "code",
   "execution_count": 47,
   "id": "7ca6ff70",
   "metadata": {},
   "outputs": [
    {
     "name": "stdout",
     "output_type": "stream",
     "text": [
      "[[1 2 3]\n",
      " [4 5 6]\n",
      " [7 8 9]]\n",
      "[[3 2 1]\n",
      " [6 5 4]\n",
      " [9 8 7]]\n"
     ]
    }
   ],
   "source": [
    "print(a)\n",
    "print(np.flip(a, axis=1))"
   ]
  },
  {
   "cell_type": "markdown",
   "id": "ac4e9af4",
   "metadata": {},
   "source": [
    "## Roll elements within an array"
   ]
  },
  {
   "cell_type": "code",
   "execution_count": 13,
   "id": "f623d98c",
   "metadata": {},
   "outputs": [
    {
     "name": "stdout",
     "output_type": "stream",
     "text": [
      "[[1 2]\n",
      " [3 4]]\n",
      "[[2 1]\n",
      " [4 3]]\n"
     ]
    }
   ],
   "source": [
    "print(a)\n",
    "print(np.roll(a, shift=1, axis=1))"
   ]
  }
 ],
 "metadata": {
  "kernelspec": {
   "display_name": "Python 3",
   "language": "python",
   "name": "python3"
  },
  "language_info": {
   "codemirror_mode": {
    "name": "ipython",
    "version": 3
   },
   "file_extension": ".py",
   "mimetype": "text/x-python",
   "name": "python",
   "nbconvert_exporter": "python",
   "pygments_lexer": "ipython3",
   "version": "3.11.7"
  }
 },
 "nbformat": 4,
 "nbformat_minor": 5
}
