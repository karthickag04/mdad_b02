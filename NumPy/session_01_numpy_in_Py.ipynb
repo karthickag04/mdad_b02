{
 "cells": [
  {
   "cell_type": "markdown",
   "id": "91781a14",
   "metadata": {},
   "source": [
    "#### PyPi Package : NumPy"
   ]
  },
  {
   "cell_type": "code",
   "execution_count": 3,
   "id": "89be7d2f",
   "metadata": {},
   "outputs": [],
   "source": [
    "# pip install numpy\n",
    "import numpy as np"
   ]
  },
  {
   "cell_type": "code",
   "execution_count": 2,
   "id": "4ff59a28",
   "metadata": {},
   "outputs": [
    {
     "name": "stdout",
     "output_type": "stream",
     "text": [
      "[10, 10, 20, 20]\n"
     ]
    }
   ],
   "source": [
    "list1=[10,10]\n",
    "list2=[20,20]\n",
    "result=list1+list2\n",
    "print(result)\n"
   ]
  },
  {
   "cell_type": "code",
   "execution_count": 9,
   "id": "2dcf8ff8",
   "metadata": {},
   "outputs": [
    {
     "name": "stdout",
     "output_type": "stream",
     "text": [
      "[30 30]\n"
     ]
    }
   ],
   "source": [
    "list1=np.array(list1)\n",
    "list2=np.array(list2)\n",
    "print(list1+list2)\n"
   ]
  },
  {
   "cell_type": "code",
   "execution_count": 13,
   "id": "f23d2c36",
   "metadata": {},
   "outputs": [
    {
     "name": "stdout",
     "output_type": "stream",
     "text": [
      "[30 30]\n",
      "<class 'numpy.ndarray'>\n",
      "<class 'numpy.ndarray'>\n",
      "int32\n",
      "int16\n"
     ]
    }
   ],
   "source": [
    "list1=np.array(list1)\n",
    "list2=np.array(list2)\n",
    "print(list1+list2)\n",
    "print(type(list1))\n",
    "print(type(list1))\n",
    "print(list2.dtype)\n",
    "list1=list1.astype(\"int16\")\n",
    "print(list1.dtype)"
   ]
  },
  {
   "cell_type": "markdown",
   "id": "fbfd7184",
   "metadata": {},
   "source": [
    "# Array Initialization"
   ]
  },
  {
   "cell_type": "code",
   "execution_count": 17,
   "id": "0ddf15c9",
   "metadata": {},
   "outputs": [
    {
     "name": "stdout",
     "output_type": "stream",
     "text": [
      "[1 2 3]\n"
     ]
    }
   ],
   "source": [
    "\n",
    "# Array Initialization\n",
    "# In this exercise, you will learn how to initialize an array in Python.\n",
    "a = np.array([1, 2, 3], dtype='int32')\n",
    "print(a)"
   ]
  },
  {
   "cell_type": "code",
   "execution_count": 18,
   "id": "e62e29c5",
   "metadata": {},
   "outputs": [
    {
     "name": "stdout",
     "output_type": "stream",
     "text": [
      "[[9. 8. 7.]\n",
      " [6. 5. 4.]]\n"
     ]
    }
   ],
   "source": [
    "# initialize an array as float type\n",
    "b = np.array([[9.0, 8.0, 7.0], [6.0, 5.0, 4.0]])\n",
    "print(b)"
   ]
  },
  {
   "cell_type": "code",
   "execution_count": 20,
   "id": "fb8a2d73",
   "metadata": {},
   "outputs": [
    {
     "name": "stdout",
     "output_type": "stream",
     "text": [
      "[[[1 2]\n",
      "  [3 4]]\n",
      "\n",
      " [[5 6]\n",
      "  [7 8]]]\n"
     ]
    }
   ],
   "source": [
    "# initialize an array as 3 dimension\n",
    "c = np.array([\n",
    "    [[1, 2], [3, 4]],\n",
    "    [[5, 6], [7, 8]]\n",
    "])\n",
    "print(c)\n",
    "\n"
   ]
  },
  {
   "cell_type": "markdown",
   "id": "adae3889",
   "metadata": {},
   "source": [
    "## Get Dimension"
   ]
  },
  {
   "cell_type": "code",
   "execution_count": 21,
   "id": "8a6a944a",
   "metadata": {},
   "outputs": [
    {
     "name": "stdout",
     "output_type": "stream",
     "text": [
      "1\n",
      "2\n",
      "3\n"
     ]
    }
   ],
   "source": [
    "# Get Dimension\n",
    "print(a.ndim)\n",
    "print(b.ndim)\n",
    "print(c.ndim)"
   ]
  },
  {
   "cell_type": "markdown",
   "id": "70e6326f",
   "metadata": {},
   "source": [
    "## Get Shape"
   ]
  },
  {
   "cell_type": "code",
   "execution_count": 23,
   "id": "0d3606a0",
   "metadata": {},
   "outputs": [
    {
     "name": "stdout",
     "output_type": "stream",
     "text": [
      "[1 2 3]\n",
      "rows and columns (3,)\n",
      "[[9. 8. 7.]\n",
      " [6. 5. 4.]]\n",
      "rows and columns (2, 3)\n",
      "[[[1 2]\n",
      "  [3 4]]\n",
      "\n",
      " [[5 6]\n",
      "  [7 8]]]\n",
      "rows and columns (2, 2, 2)\n"
     ]
    }
   ],
   "source": [
    "# Get Shape\n",
    "print(a)\n",
    "print('rows and columns',a.shape)\n",
    "print(b)\n",
    "print('rows and columns',b.shape)\n",
    "print(c)\n",
    "print('rows and columns',c.shape)"
   ]
  },
  {
   "cell_type": "markdown",
   "id": "66bf59e9",
   "metadata": {},
   "source": [
    "## Get Type"
   ]
  },
  {
   "cell_type": "code",
   "execution_count": 24,
   "id": "52fa111b",
   "metadata": {},
   "outputs": [
    {
     "name": "stdout",
     "output_type": "stream",
     "text": [
      "int32\n",
      "float64\n",
      "int32\n"
     ]
    }
   ],
   "source": [
    "# Get Type\n",
    "print(a.dtype)\n",
    "print(b.dtype)\n",
    "print(c.dtype)"
   ]
  },
  {
   "cell_type": "markdown",
   "id": "fd278cfd",
   "metadata": {},
   "source": [
    "## Get Size (bytes per element)"
   ]
  },
  {
   "cell_type": "code",
   "execution_count": 25,
   "id": "81a94f3d",
   "metadata": {},
   "outputs": [
    {
     "name": "stdout",
     "output_type": "stream",
     "text": [
      "4\n",
      "8\n",
      "4\n"
     ]
    }
   ],
   "source": [
    "# Get Size (bytes per element)\n",
    "print(a.itemsize)\n",
    "print(b.itemsize)\n",
    "print(c.itemsize)"
   ]
  },
  {
   "cell_type": "markdown",
   "id": "2b6ff56d",
   "metadata": {},
   "source": [
    "## Get total size (bytes for the whole array)"
   ]
  },
  {
   "cell_type": "code",
   "execution_count": 9,
   "id": "81c81b38",
   "metadata": {},
   "outputs": [
    {
     "name": "stdout",
     "output_type": "stream",
     "text": [
      "12\n",
      "48\n",
      "32\n"
     ]
    }
   ],
   "source": [
    "# Get total size (bytes for the whole array)\n",
    "print(a.nbytes)\n",
    "print(b.nbytes)\n",
    "print(c.nbytes)"
   ]
  },
  {
   "cell_type": "markdown",
   "id": "2ab5681b",
   "metadata": {},
   "source": [
    "## Get number of elements"
   ]
  },
  {
   "cell_type": "code",
   "execution_count": 10,
   "id": "97c2a491",
   "metadata": {},
   "outputs": [
    {
     "name": "stdout",
     "output_type": "stream",
     "text": [
      "3\n",
      "6\n",
      "8\n"
     ]
    }
   ],
   "source": [
    "# Get number of elements\n",
    "print(a.size)\n",
    "print(b.size)\n",
    "print(c.size)"
   ]
  },
  {
   "cell_type": "markdown",
   "id": "ce7e6e8d",
   "metadata": {},
   "source": [
    "# Accessing/Changing specific elements, rows, columns, etc"
   ]
  },
  {
   "cell_type": "code",
   "execution_count": 58,
   "id": "76653a6b",
   "metadata": {},
   "outputs": [],
   "source": [
    "a = np.array([[1, 2, 3, 4, 5, 6, 7,8,9], [10, 20, 30, 40, 50, 60, 70,80,90]])\n",
    "b = np.array([[1, 2, 3, 4, 5, 6, 7,8,9], [10, 20, 30, 40, 50, 60, 70,80,90],[11,21,31,41,51,61,71,81,91]])\n"
   ]
  },
  {
   "cell_type": "markdown",
   "id": "d4d31972",
   "metadata": {},
   "source": [
    "## Get a specific element"
   ]
  },
  {
   "cell_type": "code",
   "execution_count": 30,
   "id": "24cf0344",
   "metadata": {},
   "outputs": [
    {
     "name": "stdout",
     "output_type": "stream",
     "text": [
      "[[ 1  2  3  4  5  6  7  8  9]\n",
      " [10 20 30 40 50 60 70 80 90]]\n",
      "3\n",
      "6\n",
      "60\n"
     ]
    }
   ],
   "source": [
    "# Get a specific element\n",
    "print(a)\n",
    "print(a[0, 2])\n",
    "print(a[0, 5])\n",
    "print(a[1, 5])"
   ]
  },
  {
   "cell_type": "markdown",
   "id": "33e2c94e",
   "metadata": {},
   "source": [
    "## Get a specific row"
   ]
  },
  {
   "cell_type": "code",
   "execution_count": 39,
   "id": "b410917c",
   "metadata": {},
   "outputs": [
    {
     "name": "stdout",
     "output_type": "stream",
     "text": [
      "[[ 1  2  3  4  5  6  7  8  9]\n",
      " [10 20 30 40 50 60 70 80 90]]\n",
      "\n",
      "[1 2 3 4 5 6 7 8 9]\n",
      "[1 2 3]\n",
      "[1 2 3 4 5 6 7 8]\n",
      "[1 2 3 4 5 6 7]\n",
      "[1 2 3 4 5 6]\n",
      "[3 4]\n"
     ]
    }
   ],
   "source": [
    "# Get a specific row\n",
    "print(a)\n",
    "print(\"\")\n",
    "print(a[0, :])\n",
    "print(a[0, :3])\n",
    "print(a[0, 0:-1])\n",
    "print(a[0, 0:-2])\n",
    "print(a[0, :-3])\n",
    "print(a[0, 2:4])"
   ]
  },
  {
   "cell_type": "markdown",
   "id": "6203972b",
   "metadata": {},
   "source": [
    "## Get a specific column"
   ]
  },
  {
   "cell_type": "code",
   "execution_count": 46,
   "id": "489eb109",
   "metadata": {},
   "outputs": [
    {
     "name": "stdout",
     "output_type": "stream",
     "text": [
      "[[ 1  2  3  4  5  6  7  8  9]\n",
      " [10 20 30 40 50 60 70 80 90]]\n",
      "\n",
      "second column using index [ 2 20]\n",
      "[40]\n",
      "**************\n",
      "[[ 1  2  3  4  5  6  7  8  9]\n",
      " [10 20 30 40 50 60 70 80 90]\n",
      " [11 21 31 41 51 61 71 81 91]]\n",
      "\n",
      "first column from all rows using index [ 1 10 11]\n"
     ]
    }
   ],
   "source": [
    "# Get a specific column\n",
    "print(a)\n",
    "print(\"\")\n",
    "\n",
    "print(\"second column using index\",a[:, 1])\n",
    "print(a[1:, 3])\n",
    "print(\"**************\")\n",
    "print(b)\n",
    "print(\"\")\n",
    "print(\"first column from all rows using index\",b[:,0])"
   ]
  },
  {
   "cell_type": "markdown",
   "id": "97e7c47c",
   "metadata": {},
   "source": [
    "## Get a specific range of elements"
   ]
  },
  {
   "cell_type": "code",
   "execution_count": 52,
   "id": "ab55b364",
   "metadata": {},
   "outputs": [
    {
     "name": "stdout",
     "output_type": "stream",
     "text": [
      "[[ 1  2  3  4  5  6  7  8  9]\n",
      " [10 20 30 40 50 60 70 80 90]]\n",
      "*********\n",
      "[2 4 6 8]\n",
      "************\n",
      "[[ 1  2  3  4  5  6  7  8  9]\n",
      " [10 20 30 40 50 60 70 80 90]\n",
      " [11 21 31 41 51 61 71 81 91]]\n",
      "************\n",
      "[21 51 81]\n",
      "[[ 2  5  8]\n",
      " [20 50 80]\n",
      " [21 51 81]]\n"
     ]
    }
   ],
   "source": [
    "# Get a specific range of elements\n",
    "print(a)\n",
    "print(\"*********\")\n",
    "print(a[0, 1:-1:2])\n",
    "print(\"************\")\n",
    "print(b)\n",
    "print(\"************\")\n",
    "print(b[2, 1:-1:3])\n",
    "print(b[0:3, 1:-1:3])"
   ]
  },
  {
   "cell_type": "markdown",
   "id": "dfa777a6",
   "metadata": {},
   "source": [
    "## Modify an element and replace a column"
   ]
  },
  {
   "cell_type": "code",
   "execution_count": 67,
   "id": "0293388e",
   "metadata": {},
   "outputs": [
    {
     "name": "stdout",
     "output_type": "stream",
     "text": [
      "[[ 1  2  3  4  5  6  7  8  9]\n",
      " [10 20 30 40 50 60 70 80 90]]\n",
      "*************\n",
      "[[  1   2   3   4   5   6   7   8   9]\n",
      " [ 10  20  30  40  50 222  70  80  90]]\n",
      "****************\n",
      "[[  1   2   0   4   5   6   7   8   9]\n",
      " [ 10  20   0  40  50 222  70  80  90]]\n",
      "****************\n",
      "[[  1   2   0   4   5   6   7   8   9]\n",
      " [ 10  20   2  40  50 222  70  80  90]]\n"
     ]
    }
   ],
   "source": [
    "# Modify an element and replace a column\n",
    "a = np.array([[1, 2, 3, 4, 5, 6, 7,8,9], [10, 20, 30, 40, 50, 60, 70,80,90]])\n",
    "b = np.array([[1, 2, 3, 4, 5, 6, 7,8,9], [10, 20, 30, 40, 50, 60, 70,80,90],[11,21,31,41,51,61,71,81,91]])\n",
    "\n",
    "print(a)\n",
    "print(\"*************\")\n",
    "a[1, 5] = 222\n",
    "print(a)\n",
    "print(\"****************\")\n",
    "a[:, 2] = [0]\n",
    "print(a)\n",
    "print(\"****************\")\n",
    "a[:, 2] = [0,2]\n",
    "print(a)"
   ]
  },
  {
   "cell_type": "markdown",
   "id": "83e0da7b",
   "metadata": {},
   "source": [
    "# Initializing Different Types of Arrays"
   ]
  },
  {
   "cell_type": "code",
   "execution_count": 69,
   "id": "e87c04a7",
   "metadata": {},
   "outputs": [
    {
     "name": "stdout",
     "output_type": "stream",
     "text": [
      "[[0. 0. 0.]\n",
      " [0. 0. 0.]]\n",
      "2\n"
     ]
    }
   ],
   "source": [
    "# All 0s matrix\n",
    "print(np.zeros((2, 3)))\n",
    "print(np.zeros((2, 3)).ndim)"
   ]
  },
  {
   "cell_type": "code",
   "execution_count": 19,
   "id": "cde0496b",
   "metadata": {},
   "outputs": [
    {
     "name": "stdout",
     "output_type": "stream",
     "text": [
      "[[[1 1]\n",
      "  [1 1]]\n",
      "\n",
      " [[1 1]\n",
      "  [1 1]]\n",
      "\n",
      " [[1 1]\n",
      "  [1 1]]\n",
      "\n",
      " [[1 1]\n",
      "  [1 1]]]\n",
      "3\n"
     ]
    }
   ],
   "source": [
    "# All 1s matrix\n",
    "print((np.ones((4, 2, 2), dtype='int32')))\n",
    "print((np.ones((4, 2, 2), dtype='int32')).ndim)"
   ]
  },
  {
   "cell_type": "code",
   "execution_count": 70,
   "id": "87998878",
   "metadata": {},
   "outputs": [
    {
     "name": "stdout",
     "output_type": "stream",
     "text": [
      "[[[1 1 1]\n",
      "  [1 1 1]\n",
      "  [1 1 1]]\n",
      "\n",
      " [[1 1 1]\n",
      "  [1 1 1]\n",
      "  [1 1 1]]\n",
      "\n",
      " [[1 1 1]\n",
      "  [1 1 1]\n",
      "  [1 1 1]]\n",
      "\n",
      " [[1 1 1]\n",
      "  [1 1 1]\n",
      "  [1 1 1]]]\n",
      "3\n"
     ]
    }
   ],
   "source": [
    "print((np.ones((4, 3, 3), dtype='int32')))\n",
    "print((np.ones((4, 3, 3), dtype='int32')).ndim)"
   ]
  },
  {
   "cell_type": "code",
   "execution_count": 20,
   "id": "8c4d9e00",
   "metadata": {},
   "outputs": [
    {
     "name": "stdout",
     "output_type": "stream",
     "text": [
      "[[99 99]\n",
      " [99 99]]\n"
     ]
    }
   ],
   "source": [
    "# Any other number\n",
    "print(np.full((2, 2), 99))"
   ]
  },
  {
   "cell_type": "code",
   "execution_count": 71,
   "id": "24f4fee7",
   "metadata": {},
   "outputs": [
    {
     "name": "stdout",
     "output_type": "stream",
     "text": [
      "[[4 4 4 4 4 4 4 4 4]\n",
      " [4 4 4 4 4 4 4 4 4]]\n"
     ]
    }
   ],
   "source": [
    "# Any other number (full_like)\n",
    "print(np.full_like(a, 4))"
   ]
  },
  {
   "cell_type": "code",
   "execution_count": 80,
   "id": "66474be9",
   "metadata": {},
   "outputs": [
    {
     "name": "stdout",
     "output_type": "stream",
     "text": [
      "[[0.23511973 0.46503149 0.32407169]\n",
      " [0.89275786 0.06089155 0.15764026]\n",
      " [0.83627561 0.26906465 0.67854716]]\n"
     ]
    }
   ],
   "source": [
    "# Random decimal numbers\n",
    "print(np.random.rand(3, 3))"
   ]
  },
  {
   "cell_type": "code",
   "execution_count": 87,
   "id": "bfdbfc45",
   "metadata": {},
   "outputs": [
    {
     "name": "stdout",
     "output_type": "stream",
     "text": [
      "[[ 4  2 10]\n",
      " [16  1 12]\n",
      " [12 18  2]]\n"
     ]
    }
   ],
   "source": [
    "# Random Integer values\n",
    "print(np.random.randint(1, 20, size=(3, 3)))"
   ]
  },
  {
   "cell_type": "code",
   "execution_count": 93,
   "id": "5277af41",
   "metadata": {},
   "outputs": [
    {
     "name": "stdout",
     "output_type": "stream",
     "text": [
      "[[1. 0. 0. 0. 0. 0. 0.]\n",
      " [0. 1. 0. 0. 0. 0. 0.]\n",
      " [0. 0. 1. 0. 0. 0. 0.]\n",
      " [0. 0. 0. 1. 0. 0. 0.]\n",
      " [0. 0. 0. 0. 1. 0. 0.]\n",
      " [0. 0. 0. 0. 0. 1. 0.]\n",
      " [0. 0. 0. 0. 0. 0. 1.]]\n"
     ]
    }
   ],
   "source": [
    "# The identity matrix\n",
    "print(np.identity(7))"
   ]
  },
  {
   "cell_type": "code",
   "execution_count": 95,
   "id": "34bbf65c",
   "metadata": {},
   "outputs": [
    {
     "name": "stdout",
     "output_type": "stream",
     "text": [
      "[[1 2 3]\n",
      " [1 2 3]\n",
      " [1 2 3]]\n",
      "[[1 1 1 2 2 2 3 3 3]]\n"
     ]
    }
   ],
   "source": [
    "# Repeat an array\n",
    "arr = np.array([[1, 2, 3]])\n",
    "r1 = np.repeat(arr, 3, axis=0)\n",
    "print(r1)\n",
    "r1 = np.repeat(arr, 3, axis=1)\n",
    "print(r1)"
   ]
  },
  {
   "cell_type": "markdown",
   "id": "cab6839e",
   "metadata": {},
   "source": [
    "# Mathematics"
   ]
  },
  {
   "cell_type": "code",
   "execution_count": 96,
   "id": "f134793e",
   "metadata": {},
   "outputs": [
    {
     "name": "stdout",
     "output_type": "stream",
     "text": [
      "[1 2 3 4]\n"
     ]
    }
   ],
   "source": [
    "a = np.array([1, 2, 3, 4])\n",
    "print(a)"
   ]
  },
  {
   "cell_type": "markdown",
   "id": "1a126957",
   "metadata": {},
   "source": [
    "## Basic Operations"
   ]
  },
  {
   "cell_type": "code",
   "execution_count": 97,
   "id": "74c84476",
   "metadata": {},
   "outputs": [
    {
     "name": "stdout",
     "output_type": "stream",
     "text": [
      "[1 2 3 4]\n",
      "[3 4 5 6]\n",
      "[-1  0  1  2]\n",
      "[2 4 6 8]\n",
      "[0.5 1.  1.5 2. ]\n"
     ]
    }
   ],
   "source": [
    "print(a)\n",
    "print(a + 2)\n",
    "print(a - 2)\n",
    "print(a * 2)\n",
    "print(a / 2)"
   ]
  },
  {
   "cell_type": "markdown",
   "id": "b9495b3e",
   "metadata": {},
   "source": [
    "## Element-wise Operations"
   ]
  },
  {
   "cell_type": "code",
   "execution_count": 100,
   "id": "8d5a2e3f",
   "metadata": {},
   "outputs": [
    {
     "name": "stdout",
     "output_type": "stream",
     "text": [
      "[1 2 3 4]\n",
      "[1 0 1 0]\n",
      "*********\n",
      "[2 2 4 4]\n",
      "********\n",
      "[ 1  4  9 16]\n",
      "[ 0.54030231 -0.41614684 -0.9899925  -0.65364362]\n"
     ]
    }
   ],
   "source": [
    "b = np.array([1, 0, 1, 0])\n",
    "print(a)\n",
    "print(b)\n",
    "print(\"*********\")\n",
    "print(a + b)\n",
    "print(\"********\")\n",
    "print(a ** 2)\n",
    "print(np.cos(a))"
   ]
  }
 ],
 "metadata": {
  "kernelspec": {
   "display_name": "Python 3",
   "language": "python",
   "name": "python3"
  },
  "language_info": {
   "codemirror_mode": {
    "name": "ipython",
    "version": 3
   },
   "file_extension": ".py",
   "mimetype": "text/x-python",
   "name": "python",
   "nbconvert_exporter": "python",
   "pygments_lexer": "ipython3",
   "version": "3.11.7"
  }
 },
 "nbformat": 4,
 "nbformat_minor": 5
}
