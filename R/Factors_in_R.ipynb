{
 "cells": [
  {
   "cell_type": "code",
   "execution_count": 1,
   "metadata": {
    "vscode": {
     "languageId": "r"
    }
   },
   "outputs": [
    {
     "name": "stdout",
     "output_type": "stream",
     "text": [
      "[1] Male   Female Female Male  \n",
      "Levels: Female Male\n",
      "[1] \"Female\" \"Male\"  \n",
      "[1] Male   Female Female Male  \n",
      "Levels: Female Male\n"
     ]
    }
   ],
   "source": [
    "# Creating a factor\n",
    "gender <- factor(c(\"Male\", \"Female\", \"Female\", \"Male\"))\n",
    "print(gender)\n",
    "\n",
    "# Checking the levels of a factor\n",
    "print(levels(gender))\n",
    "\n",
    "# Modifying factor levels\n",
    "levels(gender) <- c(\"Female\", \"Male\")\n",
    "print(gender)\n"
   ]
  }
 ],
 "metadata": {
  "kernelspec": {
   "display_name": "R",
   "language": "R",
   "name": "ir"
  },
  "language_info": {
   "codemirror_mode": "r",
   "file_extension": ".r",
   "mimetype": "text/x-r-source",
   "name": "R",
   "pygments_lexer": "r",
   "version": "4.4.2"
  }
 },
 "nbformat": 4,
 "nbformat_minor": 2
}
