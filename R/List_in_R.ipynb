{
 "cells": [
  {
   "cell_type": "code",
   "execution_count": 1,
   "metadata": {
    "vscode": {
     "languageId": "r"
    }
   },
   "outputs": [
    {
     "name": "stdout",
     "output_type": "stream",
     "text": [
      "$name\n",
      "[1] \"John\"\n",
      "\n",
      "$age\n",
      "[1] 25\n",
      "\n",
      "$scores\n",
      "[1] 85 90 88\n",
      "\n",
      "[1] \"John\"\n",
      "[1] 25\n"
     ]
    }
   ],
   "source": [
    "# Creating a list with different types of elements\n",
    "my_list <- list(name=\"John\", age=25, scores=c(85, 90, 88))\n",
    "print(my_list)\n",
    "\n",
    "# Accessing elements in a list\n",
    "print(my_list$name)  # Accessing by name (outputs \"John\")\n",
    "print(my_list[[2]])  # Accessing by index (outputs 25)\n"
   ]
  },
  {
   "cell_type": "code",
   "execution_count": 5,
   "metadata": {
    "vscode": {
     "languageId": "r"
    }
   },
   "outputs": [
    {
     "data": {
      "text/html": [
       "<ol>\n",
       "\t<li>'banana'</li>\n",
       "\t<li>'cherry'</li>\n",
       "\t<li>'orange'</li>\n",
       "\t<li>'kiwi'</li>\n",
       "</ol>\n"
      ],
      "text/latex": [
       "\\begin{enumerate}\n",
       "\\item 'banana'\n",
       "\\item 'cherry'\n",
       "\\item 'orange'\n",
       "\\item 'kiwi'\n",
       "\\end{enumerate}\n"
      ],
      "text/markdown": [
       "1. 'banana'\n",
       "2. 'cherry'\n",
       "3. 'orange'\n",
       "4. 'kiwi'\n",
       "\n",
       "\n"
      ],
      "text/plain": [
       "[[1]]\n",
       "[1] \"banana\"\n",
       "\n",
       "[[2]]\n",
       "[1] \"cherry\"\n",
       "\n",
       "[[3]]\n",
       "[1] \"orange\"\n",
       "\n",
       "[[4]]\n",
       "[1] \"kiwi\"\n"
      ]
     },
     "metadata": {},
     "output_type": "display_data"
    }
   ],
   "source": [
    "thislist <- list(\"apple\", \"banana\", \"cherry\", \"orange\", \"kiwi\", \"melon\", \"mango\")\n",
    "\n",
    "(thislist)[2:5]"
   ]
  },
  {
   "cell_type": "code",
   "execution_count": null,
   "metadata": {
    "vscode": {
     "languageId": "r"
    }
   },
   "outputs": [],
   "source": [
    "thislist <- list(\"apple\", \"banana\", \"cherry\")\n",
    "\n",
    "for (x in thislist) {\n",
    "  print(x)\n",
    "   \n",
    "}"
   ]
  },
  {
   "cell_type": "code",
   "execution_count": 2,
   "metadata": {
    "vscode": {
     "languageId": "r"
    }
   },
   "outputs": [
    {
     "name": "stdout",
     "output_type": "stream",
     "text": [
      "$name\n",
      "[1] \"Alice\"\n",
      "\n",
      "$age\n",
      "[1] 30\n",
      "\n",
      "$scores\n",
      "[1] 95 88 92\n",
      "\n",
      "$passed\n",
      "[1] TRUE\n",
      "\n"
     ]
    }
   ],
   "source": [
    "# Creating a simple list with different types of elements\n",
    "my_list <- list(name = \"Alice\", age = 30, scores = c(95, 88, 92), passed = TRUE)\n",
    "print(my_list)\n"
   ]
  },
  {
   "cell_type": "code",
   "execution_count": null,
   "metadata": {
    "vscode": {
     "languageId": "r"
    }
   },
   "outputs": [],
   "source": [
    "# Accessing the first element\n",
    "my_list[[1]]\n",
    "\n",
    "# Accessing the 'scores' element\n",
    "my_list[[\"scores\"]]\n"
   ]
  },
  {
   "cell_type": "code",
   "execution_count": null,
   "metadata": {
    "vscode": {
     "languageId": "r"
    }
   },
   "outputs": [],
   "source": [
    "# Accessing the 'name' element\n",
    "my_list$name\n"
   ]
  },
  {
   "cell_type": "code",
   "execution_count": null,
   "metadata": {
    "vscode": {
     "languageId": "r"
    }
   },
   "outputs": [],
   "source": [
    "# This returns a sublist containing the 'name' element\n",
    "my_list[\"name\"]\n"
   ]
  },
  {
   "cell_type": "code",
   "execution_count": null,
   "metadata": {
    "vscode": {
     "languageId": "r"
    }
   },
   "outputs": [],
   "source": [
    "# Changing the 'name' element\n",
    "my_list$name <- \"Bob\"\n",
    "\n",
    "# Updating the 'scores' vector\n",
    "my_list[[\"scores\"]] <- c(89, 93, 90)\n"
   ]
  },
  {
   "cell_type": "code",
   "execution_count": null,
   "metadata": {
    "vscode": {
     "languageId": "r"
    }
   },
   "outputs": [],
   "source": [
    "# Adding a new element to the list\n",
    "my_list$grade <- \"A\"\n",
    "print(my_list)\n"
   ]
  },
  {
   "cell_type": "code",
   "execution_count": null,
   "metadata": {
    "vscode": {
     "languageId": "r"
    }
   },
   "outputs": [],
   "source": [
    "# Adding a new element to the list\n",
    "my_list$grade <- \"A\"\n",
    "print(my_list)\n"
   ]
  },
  {
   "cell_type": "code",
   "execution_count": null,
   "metadata": {
    "vscode": {
     "languageId": "r"
    }
   },
   "outputs": [],
   "source": [
    "# Removing the 'passed' element\n",
    "my_list$passed <- NULL\n",
    "print(my_list)\n"
   ]
  },
  {
   "cell_type": "code",
   "execution_count": null,
   "metadata": {
    "vscode": {
     "languageId": "r"
    }
   },
   "outputs": [],
   "source": [
    "# length(): Get the number of elements in the list.\n",
    "length(my_list) # Returns 4\n",
    "\n",
    "# str(): Display the structure of the list.\n",
    "str(my_list)\n",
    "\n",
    "# unlist(): Convert a list to a vector (flattens it). Be cautious as this may lose structure.\n",
    "\n",
    "flattened_list <- unlist(my_list)\n",
    "print(flattened_list)\n",
    "\n"
   ]
  },
  {
   "cell_type": "code",
   "execution_count": 3,
   "metadata": {
    "vscode": {
     "languageId": "r"
    }
   },
   "outputs": [],
   "source": [
    "# lapply() and sapply(): Apply a function to each element of the list\n",
    "\n",
    "# lapply() returns a list\n",
    "squared_scores <- lapply(my_list$scores, function(x) x^2)\n",
    "print(squared_scores)\n",
    "\n",
    "# sapply() simplifies the result, typically to a vector\n",
    "squared_scores_vector <- sapply(my_list$scores, function(x) x^2)\n",
    "print(squared_scores_vector)\n"
   ]
  },
  {
   "cell_type": "code",
   "execution_count": null,
   "metadata": {
    "vscode": {
     "languageId": "r"
    }
   },
   "outputs": [],
   "source": [
    "# Creating a nested list\n",
    "nested_list <- list(\n",
    "  student = my_list,\n",
    "  subjects = list(math = 95, science = 90, history = 85)\n",
    ")\n",
    "print(nested_list)\n",
    "\n",
    "# Accessing elements in a nested list\n",
    "nested_list$student$name       # Accessing 'name' from 'student'\n",
    "nested_list$subjects$math      # Accessing 'math' from 'subjects'\n"
   ]
  },
  {
   "cell_type": "code",
   "execution_count": null,
   "metadata": {
    "vscode": {
     "languageId": "r"
    }
   },
   "outputs": [],
   "source": [
    "# Defining two lists\n",
    "list1 <- list(a = 1, b = 2)\n",
    "list2 <- list(c = 3, d = 4)\n",
    "\n",
    "# Merging lists\n",
    "merged_list <- c(list1, list2)\n",
    "print(merged_list)\n"
   ]
  },
  {
   "cell_type": "code",
   "execution_count": null,
   "metadata": {
    "vscode": {
     "languageId": "r"
    }
   },
   "outputs": [],
   "source": []
  }
 ],
 "metadata": {
  "kernelspec": {
   "display_name": "R",
   "language": "R",
   "name": "ir"
  },
  "language_info": {
   "codemirror_mode": "r",
   "file_extension": ".r",
   "mimetype": "text/x-r-source",
   "name": "R",
   "pygments_lexer": "r",
   "version": "4.4.2"
  }
 },
 "nbformat": 4,
 "nbformat_minor": 2
}
