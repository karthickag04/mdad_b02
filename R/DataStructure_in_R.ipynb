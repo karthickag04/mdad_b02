{
 "cells": [
  {
   "cell_type": "code",
   "execution_count": 3,
   "metadata": {
    "vscode": {
     "languageId": "r"
    }
   },
   "outputs": [
    {
     "name": "stdout",
     "output_type": "stream",
     "text": [
      "[1] 1 2 3 4 5\n",
      "[1] \"apple\"  \"banana\" \"cherry\"\n",
      "[1] 3\n"
     ]
    }
   ],
   "source": [
    "# Creating a numeric vector\n",
    "numeric_vector <- c(1, 2, 3, 4, 5) # 'c()' combines values into a vector\n",
    "print(numeric_vector)\n",
    "\n",
    "# Creating a character vector\n",
    "character_vector <- c(\"apple\", \"banana\", \"cherry\")\n",
    "print(character_vector)\n",
    "\n",
    "# Accessing elements of a vector\n",
    "print(numeric_vector[3]) # Outputs the third element, which is 3\n"
   ]
  },
  {
   "cell_type": "code",
   "execution_count": 9,
   "metadata": {
    "vscode": {
     "languageId": "r"
    }
   },
   "outputs": [],
   "source": [
    "# Using c() to create a vector with specific values\n",
    "vec_numeric <- c(1, 2, 3, 4, 5)\n",
    "vec_character <- c(\"apple\", \"banana\", \"cherry\")\n",
    "vec_logical <- c(TRUE, FALSE, TRUE)\n",
    "\n",
    "# Using the colon operator to create a sequence of numbers\n",
    "vec_sequence <- 1:10 # Equivalent to c(1, 2, 3, ..., 10)\n",
    "\n",
    "# Using the seq() function for more control over sequences\n",
    "vec_seq_step <- seq(1, 10, by = 2) # Generates: 1, 3, 5, 7, 9\n",
    "\n",
    "# Using rep() to repeat elements\n",
    "vec_repeated <- rep(5, times = 3) # Repeats the number 5 three times: 5, 5, 5\n",
    "vec_repeat_seq <- rep(1:3, each = 2) # Repeats each number twice: 1, 1, 2, 2, 3, 3\n"
   ]
  },
  {
   "cell_type": "code",
   "execution_count": 10,
   "metadata": {
    "vscode": {
     "languageId": "r"
    }
   },
   "outputs": [],
   "source": [
    "# Accessing the first element\n",
    "first_element <- vec_numeric[1]\n",
    "\n",
    "# Accessing multiple elements by specifying indices\n",
    "subset_elements <- vec_numeric[c(2, 4)] # Elements at positions 2 and 4\n",
    "\n",
    "# Excluding elements by using negative indices\n",
    "exclude_first <- vec_numeric[-1] # All elements except the first\n",
    "\n",
    "# Logical indexing\n",
    "logical_indexed <- vec_numeric[vec_numeric > 2] # Only elements greater than 2\n"
   ]
  },
  {
   "cell_type": "code",
   "execution_count": 11,
   "metadata": {
    "vscode": {
     "languageId": "r"
    }
   },
   "outputs": [],
   "source": [
    "# Arithmetic operations\n",
    "sum_vector <- vec_numeric + 10       # Adds 10 to each element\n",
    "mult_vector <- vec_numeric * 2       # Multiplies each element by 2\n",
    "\n",
    "# Summing all elements\n",
    "total_sum <- sum(vec_numeric)\n",
    "\n",
    "# Finding the mean and median\n",
    "average <- mean(vec_numeric)\n",
    "median_value <- median(vec_numeric)\n"
   ]
  },
  {
   "cell_type": "code",
   "execution_count": 12,
   "metadata": {
    "vscode": {
     "languageId": "r"
    }
   },
   "outputs": [],
   "source": [
    "# Minimum and maximum values\n",
    "min_value <- min(vec_numeric)\n",
    "max_value <- max(vec_numeric)\n",
    "\n",
    "# Standard deviation and variance\n",
    "std_dev <- sd(vec_numeric)\n",
    "variance <- var(vec_numeric)\n"
   ]
  },
  {
   "cell_type": "code",
   "execution_count": 13,
   "metadata": {
    "vscode": {
     "languageId": "r"
    }
   },
   "outputs": [],
   "source": [
    "# Element-wise comparison (returns a logical vector)\n",
    "is_greater_than_two <- vec_numeric > 2\n",
    "\n",
    "# Checking for any or all true values\n",
    "any_greater_than_two <- any(vec_numeric > 2)   # TRUE if any element is greater than 2\n",
    "all_greater_than_two <- all(vec_numeric > 2)   # TRUE if all elements are greater than 2\n"
   ]
  },
  {
   "cell_type": "code",
   "execution_count": 14,
   "metadata": {
    "vscode": {
     "languageId": "r"
    }
   },
   "outputs": [],
   "source": [
    "# Sorting a vector\n",
    "sorted_vector <- sort(vec_numeric)   # Sorts in ascending order by default\n",
    "\n",
    "# Sorting in descending order\n",
    "sorted_desc <- sort(vec_numeric, decreasing = TRUE)\n",
    "\n",
    "# Ordering returns the indices that would sort the vector\n",
    "order_indices <- order(vec_numeric)  # Useful for indexing original vector in sorted order\n"
   ]
  },
  {
   "cell_type": "code",
   "execution_count": 15,
   "metadata": {
    "vscode": {
     "languageId": "r"
    }
   },
   "outputs": [],
   "source": [
    "# Unique values in a vector\n",
    "unique_values <- unique(c(1, 2, 2, 3, 4, 4, 5))\n",
    "\n",
    "# Checking for duplicates\n",
    "duplicates <- duplicated(c(1, 2, 2, 3, 4, 4, 5)) # TRUE for elements that have appeared before\n"
   ]
  },
  {
   "cell_type": "code",
   "execution_count": 16,
   "metadata": {
    "vscode": {
     "languageId": "r"
    }
   },
   "outputs": [],
   "source": [
    "# Combining two vectors\n",
    "combined_vector <- c(vec_numeric, c(6, 7, 8)) # Joins vectors into a single vector\n",
    "\n",
    "# Joining with paste() (for character vectors)\n",
    "vec_text <- c(\"Hello\", \"world\")\n",
    "joined_text <- paste(vec_text, collapse = \" \") # Joins elements with a space in between\n"
   ]
  },
  {
   "cell_type": "code",
   "execution_count": 17,
   "metadata": {
    "vscode": {
     "languageId": "r"
    }
   },
   "outputs": [],
   "source": [
    "vec_with_na <- c(1, 2, NA, 4, 5)\n",
    "\n",
    "# Summing while ignoring NA values\n",
    "sum_ignoring_na <- sum(vec_with_na, na.rm = TRUE)\n",
    "\n",
    "# Identifying which elements are NA\n",
    "na_positions <- is.na(vec_with_na)   # Returns TRUE for each NA element\n",
    "\n",
    "# Removing NA values\n",
    "vec_no_na <- vec_with_na[!is.na(vec_with_na)]\n"
   ]
  },
  {
   "cell_type": "code",
   "execution_count": 18,
   "metadata": {
    "vscode": {
     "languageId": "r"
    }
   },
   "outputs": [],
   "source": [
    "vec_short <- c(1, 2)\n",
    "vec_long <- c(10, 20, 30, 40)\n",
    "\n",
    "# Adding a shorter vector to a longer vector (1,2 is recycled)\n",
    "recycled_result <- vec_long + vec_short # Results in: c(11, 22, 31, 42)\n"
   ]
  },
  {
   "cell_type": "code",
   "execution_count": 19,
   "metadata": {
    "vscode": {
     "languageId": "r"
    }
   },
   "outputs": [
    {
     "name": "stdout",
     "output_type": "stream",
     "text": [
      "[1] 3\n",
      "[1] 5\n",
      "[1] 11 12 13 14 15\n",
      "[1] 11 12 13 14 15\n"
     ]
    }
   ],
   "source": [
    "# Create a numeric vector\n",
    "vec <- c(1, 3, 5, NA, 7, 9)\n",
    "\n",
    "# Access elements, handle NA, and perform operations\n",
    "print(vec[2])                      # Access second element\n",
    "no_na <- vec[!is.na(vec)]          # Remove NA values\n",
    "print(mean(no_na))                 # Compute mean without NA\n",
    "\n",
    "# Create a sequence vector, add 10 to each element, and sort it\n",
    "seq_vec <- 1:5\n",
    "new_vec <- seq_vec + 10            # Adds 10 to each element\n",
    "sorted_vec <- sort(new_vec)         # Sorts in ascending order\n",
    "print(sorted_vec)\n",
    "\n",
    "# Logical indexing: Only keep elements > 10\n",
    "filtered_vec <- new_vec[new_vec > 10]\n",
    "print(filtered_vec)\n"
   ]
  },
  {
   "cell_type": "code",
   "execution_count": 4,
   "metadata": {
    "vscode": {
     "languageId": "r"
    }
   },
   "outputs": [
    {
     "name": "stdout",
     "output_type": "stream",
     "text": [
      "$name\n",
      "[1] \"John\"\n",
      "\n",
      "$age\n",
      "[1] 25\n",
      "\n",
      "$scores\n",
      "[1] 85 90 88\n",
      "\n",
      "[1] \"John\"\n",
      "[1] 25\n"
     ]
    }
   ],
   "source": [
    "# Creating a list with different types of elements\n",
    "my_list <- list(name=\"John\", age=25, scores=c(85, 90, 88))\n",
    "print(my_list)\n",
    "\n",
    "# Accessing elements in a list\n",
    "print(my_list$name)  # Accessing by name (outputs \"John\")\n",
    "print(my_list[[2]])  # Accessing by index (outputs 25)\n"
   ]
  },
  {
   "cell_type": "code",
   "execution_count": 5,
   "metadata": {
    "vscode": {
     "languageId": "r"
    }
   },
   "outputs": [
    {
     "name": "stdout",
     "output_type": "stream",
     "text": [
      "     [,1] [,2] [,3]\n",
      "[1,]    1    3    5\n",
      "[2,]    2    4    6\n",
      "[1] 3\n",
      "     Col1 Col2 Col3\n",
      "Row1    1    3    5\n",
      "Row2    2    4    6\n"
     ]
    }
   ],
   "source": [
    "# Creating a 2x3 matrix\n",
    "my_matrix <- matrix(1:6, nrow=2, ncol=3)\n",
    "print(my_matrix)\n",
    "\n",
    "# Accessing elements in a matrix\n",
    "print(my_matrix[1, 2]) # Outputs the element in row 1, column 2 (which is 3)\n",
    "\n",
    "# Adding row and column names\n",
    "rownames(my_matrix) <- c(\"Row1\", \"Row2\")\n",
    "colnames(my_matrix) <- c(\"Col1\", \"Col2\", \"Col3\")\n",
    "print(my_matrix)\n"
   ]
  },
  {
   "cell_type": "code",
   "execution_count": 6,
   "metadata": {
    "vscode": {
     "languageId": "r"
    }
   },
   "outputs": [
    {
     "name": "stdout",
     "output_type": "stream",
     "text": [
      ", , 1\n",
      "\n",
      "     [,1] [,2] [,3]\n",
      "[1,]    1    3    5\n",
      "[2,]    2    4    6\n",
      "\n",
      ", , 2\n",
      "\n",
      "     [,1] [,2] [,3]\n",
      "[1,]    7    9   11\n",
      "[2,]    8   10   12\n",
      "\n",
      "[1] 3\n"
     ]
    }
   ],
   "source": [
    "# Creating a 3-dimensional array\n",
    "my_array <- array(1:12, dim = c(2, 3, 2))\n",
    "print(my_array)\n",
    "\n",
    "# Accessing elements in an array\n",
    "print(my_array[1, 2, 1]) # Accessing the element in position (1,2,1), which is 3\n"
   ]
  },
  {
   "cell_type": "code",
   "execution_count": 7,
   "metadata": {
    "vscode": {
     "languageId": "r"
    }
   },
   "outputs": [
    {
     "name": "stdout",
     "output_type": "stream",
     "text": [
      "     Name Age Score\n",
      "1   Alice  24  85.5\n",
      "2     Bob  27  90.0\n",
      "3 Charlie  22  78.5\n",
      "[1] \"Alice\"   \"Bob\"     \"Charlie\"\n",
      "   Name Age Score\n",
      "1 Alice  24  85.5\n"
     ]
    }
   ],
   "source": [
    "# Creating a data frame\n",
    "my_data <- data.frame(\n",
    "  Name = c(\"Alice\", \"Bob\", \"Charlie\"),\n",
    "  Age = c(24, 27, 22),\n",
    "  Score = c(85.5, 90.0, 78.5)\n",
    ")\n",
    "print(my_data)\n",
    "\n",
    "# Accessing elements in a data frame\n",
    "print(my_data$Name)  # Accessing a column by name\n",
    "print(my_data[1,])   # Accessing the first row\n"
   ]
  },
  {
   "cell_type": "code",
   "execution_count": 8,
   "metadata": {
    "vscode": {
     "languageId": "r"
    }
   },
   "outputs": [
    {
     "name": "stdout",
     "output_type": "stream",
     "text": [
      "[1] Male   Female Female Male  \n",
      "Levels: Female Male\n",
      "[1] \"Female\" \"Male\"  \n",
      "[1] Male   Female Female Male  \n",
      "Levels: Female Male\n"
     ]
    }
   ],
   "source": [
    "# Creating a factor\n",
    "gender <- factor(c(\"Male\", \"Female\", \"Female\", \"Male\"))\n",
    "print(gender)\n",
    "\n",
    "# Checking the levels of a factor\n",
    "print(levels(gender))\n",
    "\n",
    "# Modifying factor levels\n",
    "levels(gender) <- c(\"Female\", \"Male\")\n",
    "print(gender)\n"
   ]
  }
 ],
 "metadata": {
  "kernelspec": {
   "display_name": "R",
   "language": "R",
   "name": "ir"
  },
  "language_info": {
   "codemirror_mode": "r",
   "file_extension": ".r",
   "mimetype": "text/x-r-source",
   "name": "R",
   "pygments_lexer": "r",
   "version": "4.4.2"
  }
 },
 "nbformat": 4,
 "nbformat_minor": 2
}
