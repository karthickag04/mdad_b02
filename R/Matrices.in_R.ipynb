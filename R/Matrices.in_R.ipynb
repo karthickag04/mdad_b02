{
 "cells": [
  {
   "cell_type": "code",
   "execution_count": 1,
   "metadata": {
    "vscode": {
     "languageId": "r"
    }
   },
   "outputs": [
    {
     "name": "stdout",
     "output_type": "stream",
     "text": [
      "     [,1] [,2] [,3]\n",
      "[1,]    1    3    5\n",
      "[2,]    2    4    6\n"
     ]
    }
   ],
   "source": [
    "# Creating a 2x3 matrix\n",
    "my_matrix <- matrix(1:6, nrow=2, ncol=3)\n",
    "print(my_matrix)\n",
    "\n",
    "# # Accessing elements in a matrix\n",
    "# print(my_matrix[1, 2]) # Outputs the element in row 1, column 2 (which is 3)\n",
    "\n",
    "# # Adding row and column names\n",
    "# rownames(my_matrix) <- c(\"Row1\", \"Row2\")\n",
    "# colnames(my_matrix) <- c(\"Col1\", \"Col2\", \"Col3\")\n",
    "# print(my_matrix)\n"
   ]
  },
  {
   "cell_type": "code",
   "execution_count": null,
   "metadata": {
    "vscode": {
     "languageId": "r"
    }
   },
   "outputs": [],
   "source": []
  },
  {
   "cell_type": "code",
   "execution_count": 1,
   "metadata": {
    "vscode": {
     "languageId": "r"
    }
   },
   "outputs": [
    {
     "data": {
      "text/html": [
       "<table class=\"dataframe\">\n",
       "<caption>A matrix: 3 × 2 of type dbl</caption>\n",
       "<tbody>\n",
       "\t<tr><td>1</td><td>4</td></tr>\n",
       "\t<tr><td>2</td><td>5</td></tr>\n",
       "\t<tr><td>3</td><td>6</td></tr>\n",
       "</tbody>\n",
       "</table>\n"
      ],
      "text/latex": [
       "A matrix: 3 × 2 of type dbl\n",
       "\\begin{tabular}{ll}\n",
       "\t 1 & 4\\\\\n",
       "\t 2 & 5\\\\\n",
       "\t 3 & 6\\\\\n",
       "\\end{tabular}\n"
      ],
      "text/markdown": [
       "\n",
       "A matrix: 3 × 2 of type dbl\n",
       "\n",
       "| 1 | 4 |\n",
       "| 2 | 5 |\n",
       "| 3 | 6 |\n",
       "\n"
      ],
      "text/plain": [
       "     [,1] [,2]\n",
       "[1,] 1    4   \n",
       "[2,] 2    5   \n",
       "[3,] 3    6   "
      ]
     },
     "metadata": {},
     "output_type": "display_data"
    }
   ],
   "source": [
    "# Create a matrix\n",
    "thismatrix <- matrix(c(1,2,3,4,5,6), nrow = 3, ncol = 2)\n",
    "\n",
    "# Print the matrix\n",
    "thismatrix"
   ]
  }
 ],
 "metadata": {
  "kernelspec": {
   "display_name": "R",
   "language": "R",
   "name": "ir"
  },
  "language_info": {
   "codemirror_mode": "r",
   "file_extension": ".r",
   "mimetype": "text/x-r-source",
   "name": "R",
   "pygments_lexer": "r",
   "version": "4.4.2"
  }
 },
 "nbformat": 4,
 "nbformat_minor": 2
}
