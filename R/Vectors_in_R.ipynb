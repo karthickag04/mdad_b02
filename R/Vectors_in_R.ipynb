{
 "cells": [
  {
   "cell_type": "code",
   "execution_count": 3,
   "metadata": {
    "vscode": {
     "languageId": "r"
    }
   },
   "outputs": [
    {
     "name": "stdout",
     "output_type": "stream",
     "text": [
      "[1] 1 2 3 4 5\n",
      "[1] \"apple\"  \"banana\" \"cherry\"\n",
      "[1] 3\n"
     ]
    }
   ],
   "source": [
    "# Creating a numeric vector\n",
    "numeric_vector <- c(1, 2, 3, 4, 5) # 'c()' combines values into a vector\n",
    "print(numeric_vector)\n",
    "\n",
    "# Creating a character vector\n",
    "character_vector <- c(\"apple\", \"banana\", \"cherry\")\n",
    "print(character_vector)\n",
    "\n",
    "# Accessing elements of a vector\n",
    "print(numeric_vector[3]) # Outputs the third element, which is 3\n"
   ]
  },
  {
   "cell_type": "code",
   "execution_count": 4,
   "metadata": {
    "vscode": {
     "languageId": "r"
    }
   },
   "outputs": [
    {
     "data": {
      "text/html": [
       "<style>\n",
       ".list-inline {list-style: none; margin:0; padding: 0}\n",
       ".list-inline>li {display: inline-block}\n",
       ".list-inline>li:not(:last-child)::after {content: \"\\00b7\"; padding: 0 .5ex}\n",
       "</style>\n",
       "<ol class=list-inline><li>2</li><li>8</li><li>5</li><li>6</li></ol>\n"
      ],
      "text/latex": [
       "\\begin{enumerate*}\n",
       "\\item 2\n",
       "\\item 8\n",
       "\\item 5\n",
       "\\item 6\n",
       "\\end{enumerate*}\n"
      ],
      "text/markdown": [
       "1. 2\n",
       "2. 8\n",
       "3. 5\n",
       "4. 6\n",
       "\n",
       "\n"
      ],
      "text/plain": [
       "[1] 2 8 5 6"
      ]
     },
     "metadata": {},
     "output_type": "display_data"
    }
   ],
   "source": [
    "# Vector of numerical values\n",
    "numbers <- c(9, 2, 8,4,5,6)\n",
    "\n",
    "# Print numbers\n",
    "numbers[c(-1,-4)]\n"
   ]
  },
  {
   "cell_type": "code",
   "execution_count": 9,
   "metadata": {
    "vscode": {
     "languageId": "r"
    }
   },
   "outputs": [],
   "source": [
    "# Using c() to create a vector with specific values\n",
    "vec_numeric <- c(1, 2, 3, 4, 5)\n",
    "vec_character <- c(\"apple\", \"banana\", \"cherry\")\n",
    "vec_logical <- c(TRUE, FALSE, TRUE)\n",
    "\n",
    "# Using the colon operator to create a sequence of numbers\n",
    "vec_sequence <- 1:10 # Equivalent to c(1, 2, 3, ..., 10)\n",
    "\n",
    "# Using the seq() function for more control over sequences\n",
    "vec_seq_step <- seq(1, 10, by = 2) # Generates: 1, 3, 5, 7, 9\n",
    "\n",
    "# Using rep() to repeat elements\n",
    "vec_repeated <- rep(5, times = 3) # Repeats the number 5 three times: 5, 5, 5\n",
    "vec_repeat_seq <- rep(1:3, each = 2) # Repeats each number twice: 1, 1, 2, 2, 3, 3\n"
   ]
  },
  {
   "cell_type": "code",
   "execution_count": 10,
   "metadata": {
    "vscode": {
     "languageId": "r"
    }
   },
   "outputs": [],
   "source": [
    "# Accessing the first element\n",
    "first_element <- vec_numeric[1]\n",
    "\n",
    "# Accessing multiple elements by specifying indices\n",
    "subset_elements <- vec_numeric[c(2, 4)] # Elements at positions 2 and 4\n",
    "\n",
    "# Excluding elements by using negative indices\n",
    "exclude_first <- vec_numeric[-1] # All elements except the first\n",
    "\n",
    "# Logical indexing\n",
    "logical_indexed <- vec_numeric[vec_numeric > 2] # Only elements greater than 2\n"
   ]
  },
  {
   "cell_type": "code",
   "execution_count": 11,
   "metadata": {
    "vscode": {
     "languageId": "r"
    }
   },
   "outputs": [],
   "source": [
    "# Arithmetic operations\n",
    "sum_vector <- vec_numeric + 10       # Adds 10 to each element\n",
    "mult_vector <- vec_numeric * 2       # Multiplies each element by 2\n",
    "\n",
    "# Summing all elements\n",
    "total_sum <- sum(vec_numeric)\n",
    "\n",
    "# Finding the mean and median\n",
    "average <- mean(vec_numeric)\n",
    "median_value <- median(vec_numeric)\n"
   ]
  },
  {
   "cell_type": "code",
   "execution_count": 12,
   "metadata": {
    "vscode": {
     "languageId": "r"
    }
   },
   "outputs": [],
   "source": [
    "# Minimum and maximum values\n",
    "min_value <- min(vec_numeric)\n",
    "max_value <- max(vec_numeric)\n",
    "\n",
    "# Standard deviation and variance\n",
    "std_dev <- sd(vec_numeric)\n",
    "variance <- var(vec_numeric)\n"
   ]
  },
  {
   "cell_type": "code",
   "execution_count": 13,
   "metadata": {
    "vscode": {
     "languageId": "r"
    }
   },
   "outputs": [],
   "source": [
    "# Element-wise comparison (returns a logical vector)\n",
    "is_greater_than_two <- vec_numeric > 2\n",
    "\n",
    "# Checking for any or all true values\n",
    "any_greater_than_two <- any(vec_numeric > 2)   # TRUE if any element is greater than 2\n",
    "all_greater_than_two <- all(vec_numeric > 2)   # TRUE if all elements are greater than 2\n"
   ]
  },
  {
   "cell_type": "code",
   "execution_count": 14,
   "metadata": {
    "vscode": {
     "languageId": "r"
    }
   },
   "outputs": [],
   "source": [
    "# Sorting a vector\n",
    "sorted_vector <- sort(vec_numeric)   # Sorts in ascending order by default\n",
    "\n",
    "# Sorting in descending order\n",
    "sorted_desc <- sort(vec_numeric, decreasing = TRUE)\n",
    "\n",
    "# Ordering returns the indices that would sort the vector\n",
    "order_indices <- order(vec_numeric)  # Useful for indexing original vector in sorted order\n"
   ]
  },
  {
   "cell_type": "code",
   "execution_count": 15,
   "metadata": {
    "vscode": {
     "languageId": "r"
    }
   },
   "outputs": [],
   "source": [
    "# Unique values in a vector\n",
    "unique_values <- unique(c(1, 2, 2, 3, 4, 4, 5))\n",
    "\n",
    "# Checking for duplicates\n",
    "duplicates <- duplicated(c(1, 2, 2, 3, 4, 4, 5)) # TRUE for elements that have appeared before\n"
   ]
  },
  {
   "cell_type": "code",
   "execution_count": 16,
   "metadata": {
    "vscode": {
     "languageId": "r"
    }
   },
   "outputs": [],
   "source": [
    "# Combining two vectors\n",
    "combined_vector <- c(vec_numeric, c(6, 7, 8)) # Joins vectors into a single vector\n",
    "\n",
    "# Joining with paste() (for character vectors)\n",
    "vec_text <- c(\"Hello\", \"world\")\n",
    "joined_text <- paste(vec_text, collapse = \" \") # Joins elements with a space in between\n"
   ]
  },
  {
   "cell_type": "code",
   "execution_count": 17,
   "metadata": {
    "vscode": {
     "languageId": "r"
    }
   },
   "outputs": [],
   "source": [
    "vec_with_na <- c(1, 2, NA, 4, 5)\n",
    "\n",
    "# Summing while ignoring NA values\n",
    "sum_ignoring_na <- sum(vec_with_na, na.rm = TRUE)\n",
    "\n",
    "# Identifying which elements are NA\n",
    "na_positions <- is.na(vec_with_na)   # Returns TRUE for each NA element\n",
    "\n",
    "# Removing NA values\n",
    "vec_no_na <- vec_with_na[!is.na(vec_with_na)]\n"
   ]
  },
  {
   "cell_type": "code",
   "execution_count": 18,
   "metadata": {
    "vscode": {
     "languageId": "r"
    }
   },
   "outputs": [],
   "source": [
    "vec_short <- c(1, 2)\n",
    "vec_long <- c(10, 20, 30, 40)\n",
    "\n",
    "# Adding a shorter vector to a longer vector (1,2 is recycled)\n",
    "recycled_result <- vec_long + vec_short # Results in: c(11, 22, 31, 42)\n"
   ]
  },
  {
   "cell_type": "code",
   "execution_count": 19,
   "metadata": {
    "vscode": {
     "languageId": "r"
    }
   },
   "outputs": [
    {
     "name": "stdout",
     "output_type": "stream",
     "text": [
      "[1] 3\n",
      "[1] 5\n",
      "[1] 11 12 13 14 15\n",
      "[1] 11 12 13 14 15\n"
     ]
    }
   ],
   "source": [
    "# Create a numeric vector\n",
    "vec <- c(1, 3, 5, NA, 7, 9)\n",
    "\n",
    "# Access elements, handle NA, and perform operations\n",
    "print(vec[2])                      # Access second element\n",
    "no_na <- vec[!is.na(vec)]          # Remove NA values\n",
    "print(mean(no_na))                 # Compute mean without NA\n",
    "\n",
    "# Create a sequence vector, add 10 to each element, and sort it\n",
    "seq_vec <- 1:5\n",
    "new_vec <- seq_vec + 10            # Adds 10 to each element\n",
    "sorted_vec <- sort(new_vec)         # Sorts in ascending order\n",
    "print(sorted_vec)\n",
    "\n",
    "# Logical indexing: Only keep elements > 10\n",
    "filtered_vec <- new_vec[new_vec > 10]\n",
    "print(filtered_vec)\n"
   ]
  }
 ],
 "metadata": {
  "kernelspec": {
   "display_name": "R",
   "language": "R",
   "name": "ir"
  },
  "language_info": {
   "codemirror_mode": "r",
   "file_extension": ".r",
   "mimetype": "text/x-r-source",
   "name": "R",
   "pygments_lexer": "r",
   "version": "4.4.2"
  }
 },
 "nbformat": 4,
 "nbformat_minor": 2
}
