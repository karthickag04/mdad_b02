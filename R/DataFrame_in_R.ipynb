{
 "cells": [
  {
   "cell_type": "code",
   "execution_count": 13,
   "metadata": {
    "vscode": {
     "languageId": "r"
    }
   },
   "outputs": [
    {
     "name": "stdout",
     "output_type": "stream",
     "text": [
      "     Name Age Score\n",
      "1   Alice  24  85.5\n",
      "2     Bob  27  90.0\n",
      "3 Charlie  22  78.5\n",
      "  Name Age Score\n",
      "2  Bob  27    90\n",
      "[1] 24 27 22\n"
     ]
    }
   ],
   "source": [
    "# Creating a data frame\n",
    "my_data <- data.frame(\n",
    "  Name = c(\"Alice\", \"Bob\", \"Charlie\"),\n",
    "  Age = c(24, 27, 22),\n",
    "  Score = c(85.5, 90.0, 78.5)\n",
    ")\n",
    "print(my_data)\n",
    "\n",
    "# Accessing elements in a data frame\n",
    "# print(my_data$Name)  # Accessing a column by name\n",
    "print(my_data[ 2,])   # Accessing the first row\n",
    "print(my_data[, 2])   # Accessing the first row\n"
   ]
  }
 ],
 "metadata": {
  "kernelspec": {
   "display_name": "R",
   "language": "R",
   "name": "ir"
  },
  "language_info": {
   "codemirror_mode": "r",
   "file_extension": ".r",
   "mimetype": "text/x-r-source",
   "name": "R",
   "pygments_lexer": "r",
   "version": "4.4.2"
  }
 },
 "nbformat": 4,
 "nbformat_minor": 2
}
