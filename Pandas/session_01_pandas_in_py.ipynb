{
 "cells": [
  {
   "cell_type": "code",
   "execution_count": 10,
   "metadata": {},
   "outputs": [
    {
     "name": "stdout",
     "output_type": "stream",
     "text": [
      "Defaulting to user installation because normal site-packages is not writeableNote: you may need to restart the kernel to use updated packages.\n",
      "\n",
      "Requirement already satisfied: pandas in c:\\programdata\\anaconda3\\lib\\site-packages (2.1.4)\n",
      "Requirement already satisfied: numpy<2,>=1.23.2 in c:\\programdata\\anaconda3\\lib\\site-packages (from pandas) (1.26.4)\n",
      "Requirement already satisfied: python-dateutil>=2.8.2 in c:\\programdata\\anaconda3\\lib\\site-packages (from pandas) (2.8.2)\n",
      "Requirement already satisfied: pytz>=2020.1 in c:\\programdata\\anaconda3\\lib\\site-packages (from pandas) (2023.3.post1)\n",
      "Requirement already satisfied: tzdata>=2022.1 in c:\\programdata\\anaconda3\\lib\\site-packages (from pandas) (2023.3)\n",
      "Requirement already satisfied: six>=1.5 in c:\\programdata\\anaconda3\\lib\\site-packages (from python-dateutil>=2.8.2->pandas) (1.16.0)\n"
     ]
    }
   ],
   "source": [
    "# to install pandas use the below codes in comments\n",
    "%pip install pandas"
   ]
  },
  {
   "cell_type": "code",
   "execution_count": 3,
   "metadata": {},
   "outputs": [],
   "source": [
    "import pandas as pd"
   ]
  },
  {
   "cell_type": "code",
   "execution_count": 7,
   "metadata": {},
   "outputs": [
    {
     "name": "stdout",
     "output_type": "stream",
     "text": [
      "{'name': 'karthick', 'location': 'trichy', 'role': 'trainer'}\n",
      "name : karthick\n",
      "location : trichy\n",
      "role : trainer\n",
      "\n",
      "\n",
      "       name location     role\n",
      "0  karthick   trichy  trainer\n"
     ]
    }
   ],
   "source": [
    "# declaring data as dictionary\n",
    "data={'name':\"karthick\",\n",
    "      'location':'trichy', 'role':'trainer'}\n",
    "print(data)\n",
    "for key,value in data.items():\n",
    "    print(key,\":\", value)\n",
    "\n",
    "print(\"\")\n",
    "print(\"\")\n",
    "# # #creating dataframe\n",
    "df=pd.DataFrame(data, index=[0])\n",
    "print(df) #printing dataframe\n"
   ]
  },
  {
   "cell_type": "code",
   "execution_count": 8,
   "metadata": {},
   "outputs": [
    {
     "name": "stdout",
     "output_type": "stream",
     "text": [
      "             name location     role\n",
      "data_01  karthick   trichy  trainer\n"
     ]
    }
   ],
   "source": [
    "\n",
    "#changeing index from default to assigned\n",
    "df=pd.DataFrame(data, index=['data_01'])\n",
    "print(df)\n",
    "\n"
   ]
  },
  {
   "cell_type": "code",
   "execution_count": 12,
   "metadata": {},
   "outputs": [
    {
     "name": "stdout",
     "output_type": "stream",
     "text": [
      "             name\n",
      "data_01  karthick\n",
      "\n",
      "             name     role\n",
      "data_01  karthick  trainer\n"
     ]
    }
   ],
   "source": [
    "#selecting dataframe by columns - selected two out of three with modified index name\n",
    "df=pd.DataFrame(data, columns=[\"name\"], index=['data_01'])\n",
    "print(df)\n",
    "print(\"\")\n",
    "df=pd.DataFrame(data, columns=[\"name\",'role'], index=['data_01'])\n",
    "print(df)"
   ]
  },
  {
   "cell_type": "code",
   "execution_count": null,
   "metadata": {},
   "outputs": [],
   "source": []
  },
  {
   "cell_type": "markdown",
   "metadata": {},
   "source": [
    "## Series"
   ]
  },
  {
   "cell_type": "code",
   "execution_count": 16,
   "metadata": {},
   "outputs": [
    {
     "name": "stdout",
     "output_type": "stream",
     "text": [
      "0    10\n",
      "1    20\n",
      "2    30\n",
      "dtype: object\n",
      "\n",
      "sale 2010    10\n",
      "sale 2011    20\n",
      "sale 2020    30\n",
      "dtype: object\n"
     ]
    }
   ],
   "source": [
    "# declaring data as list\n",
    "data = [\"10\",\"20\", \"30\"]\n",
    "#converting normal list data to series\n",
    "slist=pd.Series(data)\n",
    "print(slist)\n",
    "print(\"\")\n",
    "\n",
    "# changeing defalult index numbers to custom names\n",
    "slist1=pd.Series(data, index=[\"sale 2010\",\"sale 2011\", 'sale 2020'])\n",
    "print(slist1)\n",
    "\n",
    "\n"
   ]
  },
  {
   "cell_type": "code",
   "execution_count": 17,
   "metadata": {},
   "outputs": [
    {
     "name": "stdout",
     "output_type": "stream",
     "text": [
      "2010     [10, 1, 2, 2, 3, 3, 5]\n",
      "2020     [20, 1, 2, 2, 3, 3, 5]\n",
      "2011    [301, 2, 2, 3, 3, 5, 2]\n",
      "dtype: object\n",
      "<class 'pandas.core.series.Series'>\n"
     ]
    }
   ],
   "source": [
    "#declaring data as Dict\n",
    "data2={\n",
    "    '2010':[10,1,2,2,3,3,5],\n",
    "    '2020':[20,1,2,2,3,3,5],\n",
    "    '2011':[301,2,2,3,3,5,2]\n",
    "       }\n",
    "# converting normal dict data to series using pandas\n",
    "slist2=pd.Series(data2)\n",
    "print(slist2)\n",
    "# print(\"\")\n",
    "\n",
    "# # knowing the type of data like (series)\n",
    "print(type(slist2))"
   ]
  },
  {
   "cell_type": "code",
   "execution_count": null,
   "metadata": {},
   "outputs": [],
   "source": []
  },
  {
   "cell_type": "markdown",
   "metadata": {},
   "source": [
    "## Dataframe"
   ]
  },
  {
   "cell_type": "code",
   "execution_count": 24,
   "metadata": {},
   "outputs": [
    {
     "name": "stdout",
     "output_type": "stream",
     "text": [
      "      name\n",
      "0    Alice\n",
      "1      Bob\n",
      "2  Charlie\n",
      "3    David\n",
      "\n",
      "\n",
      "       name\n",
      "22    Alice\n",
      "33      Bob\n",
      "44  Charlie\n",
      "55    David\n",
      "\n",
      "       name  Age  Score\n",
      "22    Alice   25     85\n",
      "33      Bob   30     90\n",
      "44  Charlie   35     88\n",
      "55    David   40     92\n"
     ]
    }
   ],
   "source": [
    "# dataframe from series\n",
    "\n",
    "# declaring data as list\n",
    "names = ['Alice', 'Bob', 'Charlie', 'David']\n",
    "\n",
    "\n",
    "# creating dataframe using list\n",
    "df=pd.DataFrame(names,columns=[\"name\"])\n",
    "print(df)\n",
    "print(\"\")\n",
    "print(\"\")\n",
    "\n",
    "# #changeing index from default to assigned\n",
    "df=pd.DataFrame(names,columns=[\"name\"], index=[22,33,44,55])\n",
    "print(df)\n",
    "\n",
    "# adding additional columns to the existing data\n",
    "ages = [25, 30, 35, 40]\n",
    "scores = [85, 90, 88, 92]\n",
    "\n",
    "df['Age'] = ages\n",
    "df['Score'] = scores\n",
    "print(\"\")\n",
    "print(df)"
   ]
  },
  {
   "cell_type": "code",
   "execution_count": null,
   "metadata": {},
   "outputs": [],
   "source": []
  },
  {
   "cell_type": "code",
   "execution_count": null,
   "metadata": {},
   "outputs": [],
   "source": []
  },
  {
   "cell_type": "markdown",
   "metadata": {},
   "source": [
    "## Read data from file"
   ]
  },
  {
   "cell_type": "code",
   "execution_count": 29,
   "metadata": {},
   "outputs": [
    {
     "name": "stdout",
     "output_type": "stream",
     "text": [
      "       sno  price  speed      hd   ram  screen   cd multi premium  ads  trend\n",
      "0        1   1499     25    80.0   4.0      14   no    no     yes   94      1\n",
      "1        2   1795     33    85.0   2.0      14   no    no     yes   94      1\n",
      "2        3   1595     25   170.0   4.0      15   no    no     yes   94      1\n",
      "3        4   1849     25   170.0   8.0      14   no    no      no   94      1\n",
      "4        5   3295     33   340.0  16.0      14   no    no     yes   94      1\n",
      "...    ...    ...    ...     ...   ...     ...  ...   ...     ...  ...    ...\n",
      "6254  6255   1690    100   528.0   8.0      15   no    no     yes   39     35\n",
      "6255  6256   2223     66   850.0  16.0      15  yes   yes     yes   39     35\n",
      "6256  6257   2654    100  1200.0  24.0      15  yes    no     yes   39     35\n",
      "6257  6258   2195    100   850.0  16.0      15  yes    no     yes   39     35\n",
      "6258  6259   2490    100   850.0  16.0      17  yes    no     yes   39     35\n",
      "\n",
      "[6259 rows x 11 columns]\n"
     ]
    }
   ],
   "source": [
    "data= pd.read_csv('data/Computers.csv')\n",
    "# print(data)\n",
    "\n",
    "df=pd.DataFrame(data)\n",
    "print(df) # to print datas from dataframe - it prints only top 5 and bottom 5\n",
    "# print(df.to_string())  # it prints entire dataframe\n"
   ]
  },
  {
   "cell_type": "code",
   "execution_count": 61,
   "metadata": {},
   "outputs": [
    {
     "data": {
      "text/html": [
       "<div>\n",
       "<style scoped>\n",
       "    .dataframe tbody tr th:only-of-type {\n",
       "        vertical-align: middle;\n",
       "    }\n",
       "\n",
       "    .dataframe tbody tr th {\n",
       "        vertical-align: top;\n",
       "    }\n",
       "\n",
       "    .dataframe thead th {\n",
       "        text-align: right;\n",
       "    }\n",
       "</style>\n",
       "<table border=\"1\" class=\"dataframe\">\n",
       "  <thead>\n",
       "    <tr style=\"text-align: right;\">\n",
       "      <th></th>\n",
       "      <th>sno</th>\n",
       "      <th>price</th>\n",
       "      <th>speed</th>\n",
       "      <th>hd</th>\n",
       "      <th>ram</th>\n",
       "      <th>screen</th>\n",
       "      <th>cd</th>\n",
       "      <th>multi</th>\n",
       "      <th>premium</th>\n",
       "      <th>ads</th>\n",
       "      <th>trend</th>\n",
       "    </tr>\n",
       "  </thead>\n",
       "  <tbody>\n",
       "    <tr>\n",
       "      <th>0</th>\n",
       "      <td>1</td>\n",
       "      <td>1499</td>\n",
       "      <td>25</td>\n",
       "      <td>80.0</td>\n",
       "      <td>4.0</td>\n",
       "      <td>14</td>\n",
       "      <td>no</td>\n",
       "      <td>no</td>\n",
       "      <td>yes</td>\n",
       "      <td>94</td>\n",
       "      <td>1</td>\n",
       "    </tr>\n",
       "  </tbody>\n",
       "</table>\n",
       "</div>"
      ],
      "text/plain": [
       "   sno  price  speed    hd  ram  screen  cd multi premium  ads  trend\n",
       "0    1   1499     25  80.0  4.0      14  no    no     yes   94      1"
      ]
     },
     "execution_count": 61,
     "metadata": {},
     "output_type": "execute_result"
    }
   ],
   "source": [
    "df.head(1)\n",
    "# df.head(20)\n",
    "# df.tail()\n",
    "# df.tail(7)\n",
    "# df.sample()\n",
    "# df.sample(4)"
   ]
  },
  {
   "cell_type": "code",
   "execution_count": 63,
   "metadata": {},
   "outputs": [
    {
     "name": "stdout",
     "output_type": "stream",
     "text": [
      "   sno  price  speed     hd   ram  screen  cd multi premium  ads  trend\n",
      "3    4   1849     25  170.0   8.0      14  no    no      no   94      1\n",
      "4    5   3295     33  340.0  16.0      14  no    no     yes   94      1\n",
      "5    6   3695     66  340.0  16.0      14  no    no     yes   94      1\n"
     ]
    }
   ],
   "source": [
    "# print(df['price'].head())\n",
    "# print(df[[\"sno\",'price','ram']].head()) # to print specific column name from the dataframe also restrict with head\n",
    "# print(df.loc[0]) # to print/select row  \n",
    "# print(df.loc[0:5]) # to print/select range of rows\n",
    "print(df.loc[3:5]) # to print/select range of rows\n",
    "\n"
   ]
  },
  {
   "cell_type": "code",
   "execution_count": 69,
   "metadata": {},
   "outputs": [
    {
     "name": "stdout",
     "output_type": "stream",
     "text": [
      "       sno  price  speed      hd   ram  screen   cd multi premium  ads  trend\n",
      "1506  1507   5399     66  1200.0  32.0      17  yes    no     yes  283     10\n",
      "1991  1992   5399     66  1200.0  32.0      17  yes    no     yes  259     11\n",
      "2096  2097   5399     66  1200.0  32.0      17  yes    no     yes  275     12\n",
      "4709  4710   2340     33  1000.0  24.0      17  yes    no     yes  162     22\n",
      "4778  4779   3240     33  1000.0  24.0      17  yes    no     yes  162     22\n",
      "4785  4786   3440     66  1000.0  24.0      17  yes    no     yes  162     22\n",
      "4846  4847   2390     50  1000.0  24.0      17  yes    no     yes  162     22\n",
      "4890  4891   3240     50  1000.0  24.0      17  yes    no     yes  191     23\n",
      "4931  4932   3240     33  1000.0  24.0      17  yes    no     yes  191     23\n",
      "4940  4941   3290     66  1000.0  24.0      17  yes    no     yes  191     23\n",
      "4992  4993   3140     33  1000.0  24.0      17  yes    no     yes  191     23\n",
      "5409  5410   2940     50  1000.0  24.0      17  yes    no     yes  152     26\n",
      "5415  5416   2990     66  1000.0  24.0      17  yes    no     yes  152     26\n",
      "5509  5510   3340    100  1000.0  24.0      17  yes    no     yes  152     26\n",
      "5575  5576   2890     50  1000.0  24.0      17  yes    no     yes  163     27\n",
      "5658  5659   2940     66  1000.0  24.0      17  yes    no     yes  163     27\n",
      "5677  5678   3090    100  1000.0  24.0      17  yes    no     yes  163     27\n",
      "5711  5712   2940     66  1000.0  24.0      17  yes    no     yes  132     28\n",
      "5746  5747   3090    100  1000.0  24.0      17  yes    no     yes  132     28\n",
      "5827  5828   2890     50  1000.0  24.0      17  yes    no     yes  132     28\n",
      "5854  5855   2790     50  1000.0  24.0      17  yes    no     yes  129     29\n",
      "5887  5888   3040    100  1000.0  24.0      17  yes    no     yes  129     29\n",
      "5951  5952   2840     66  1000.0  24.0      17  yes    no     yes  129     29\n",
      "5976  5977   2840     75  1200.0  24.0      17  yes    no     yes   75     30\n",
      "5977  5978   2790     50  1200.0  24.0      17  yes    no     yes   75     30\n",
      "6067  6068   2790     75  1200.0  24.0      17  yes    no     yes   52     31\n",
      "6117  6118   2790     75  1200.0  24.0      17  yes    no     yes   51     32\n",
      "6146  6147   2790     75  1200.0  24.0      17  yes    no     yes   40     33\n",
      "6188  6189   2790     66  1200.0  24.0      17  yes    no     yes   39     34\n",
      "6193  6194   3290     75  1600.0  32.0      17  yes    no     yes   39     34\n",
      "6212  6213   2890    100  1200.0  24.0      17  yes    no     yes   39     34\n",
      "6230  6231   2890    100  1200.0  24.0      17  yes    no     yes   39     35\n",
      "6235  6236   3290     75  1600.0  32.0      17  yes    no     yes   39     35\n",
      "6236  6237   2790     66  1200.0  24.0      17  yes    no     yes   39     35\n"
     ]
    }
   ],
   "source": [
    "# print(df.loc[0:2]) # to print/select range of rows\n",
    "\n",
    "# print(df.iloc[df.index[0:3]])# to print/select range of rows by using index\n",
    "\n",
    "# filterdlist=df[df[\"ram\"]>16] # to select entire columns data based on conditions\n",
    "# print(filterdlist)\n",
    "\n",
    "filterdlists=df[(df[\"ram\"]>16) & (df[\"screen\"]>15) ] # to select entire columns data based on two condtions\n",
    "print(filterdlists)\n"
   ]
  }
 ],
 "metadata": {
  "kernelspec": {
   "display_name": "base",
   "language": "python",
   "name": "python3"
  },
  "language_info": {
   "codemirror_mode": {
    "name": "ipython",
    "version": 3
   },
   "file_extension": ".py",
   "mimetype": "text/x-python",
   "name": "python",
   "nbconvert_exporter": "python",
   "pygments_lexer": "ipython3",
   "version": "3.11.7"
  }
 },
 "nbformat": 4,
 "nbformat_minor": 2
}
